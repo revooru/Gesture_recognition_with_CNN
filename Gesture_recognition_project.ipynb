{
 "cells": [
  {
   "cell_type": "markdown",
   "metadata": {
    "id": "nJSoTqYSCSzN"
   },
   "source": [
    "# Gesture Recognition\n",
    "\n",
    "### Problem Statement\n",
    "Imagine you are working as a data scientist at a home electronics company which manufactures state of the art smart televisions. You want to develop a cool feature in the smart-TV that can recognise five different gestures performed by the user which will help users control the TV without using a remote.\n",
    "\n",
    "The gestures are continuously monitored by the webcam mounted on the TV. Each gesture corresponds to a specific command:\n",
    "\n",
    "Gesture\tCorresponding Action:\\\n",
    "     1. Thumbs Up\tIncrease the volume.\\\n",
    "     2. Thumbs Down\tDecrease the volume.\\\n",
    "     3. Left Swipe\t'Jump' backwards 10 seconds.\\\n",
    "     4. Right Swipe\t'Jump' forward 10 seconds.\\\n",
    "     5. Stop\tPause the movie.\n",
    "\n",
    "Each video is a sequence of 30 frames (or images)."
   ]
  },
  {
   "cell_type": "markdown",
   "metadata": {},
   "source": [
    "### Importing required libraries"
   ]
  },
  {
   "cell_type": "code",
   "execution_count": 1,
   "metadata": {
    "id": "U6xTtkMfCSzR"
   },
   "outputs": [],
   "source": [
    "import numpy as np\n",
    "import os\n",
    "from imageio import imread\n",
    "from skimage.transform import resize as imresize\n",
    "import datetime\n",
    "import os"
   ]
  },
  {
   "cell_type": "markdown",
   "metadata": {
    "id": "6tQ0N51PCSzT"
   },
   "source": [
    "We set the random seed so that the results don't vary drastically."
   ]
  },
  {
   "cell_type": "code",
   "execution_count": 2,
   "metadata": {
    "id": "37aeMnjsCSzU"
   },
   "outputs": [],
   "source": [
    "np.random.seed(30)\n",
    "import random as rn\n",
    "rn.seed(30)\n",
    "from keras import backend as K\n",
    "import tensorflow as tf\n",
    "tf.random.set_seed(30)"
   ]
  },
  {
   "cell_type": "markdown",
   "metadata": {
    "id": "SrOcXd_YCSzV"
   },
   "source": [
    "In this block, you read the folder names for training and validation. You also set the `batch_size` here. Note that you set the batch size in such a way that you are able to use the GPU in full capacity. You keep increasing the batch size until the machine throws an error."
   ]
  },
  {
   "cell_type": "code",
   "execution_count": 3,
   "metadata": {
    "id": "_s1JPUXoCSzW"
   },
   "outputs": [
    {
     "ename": "FileNotFoundError",
     "evalue": "[Errno 2] No such file or directory: 'train.csv'",
     "output_type": "error",
     "traceback": [
      "\u001b[1;31m---------------------------------------------------------------------------\u001b[0m",
      "\u001b[1;31mFileNotFoundError\u001b[0m                         Traceback (most recent call last)",
      "\u001b[1;32m~\\AppData\\Local\\Temp\\ipykernel_15396\\1223676587.py\u001b[0m in \u001b[0;36m<module>\u001b[1;34m\u001b[0m\n\u001b[1;32m----> 1\u001b[1;33m \u001b[0mtrain_doc\u001b[0m \u001b[1;33m=\u001b[0m \u001b[0mnp\u001b[0m\u001b[1;33m.\u001b[0m\u001b[0mrandom\u001b[0m\u001b[1;33m.\u001b[0m\u001b[0mpermutation\u001b[0m\u001b[1;33m(\u001b[0m\u001b[0mopen\u001b[0m\u001b[1;33m(\u001b[0m\u001b[1;34m'train.csv'\u001b[0m\u001b[1;33m)\u001b[0m\u001b[1;33m.\u001b[0m\u001b[0mreadlines\u001b[0m\u001b[1;33m(\u001b[0m\u001b[1;33m)\u001b[0m\u001b[1;33m)\u001b[0m\u001b[1;33m\u001b[0m\u001b[1;33m\u001b[0m\u001b[0m\n\u001b[0m\u001b[0;32m      2\u001b[0m \u001b[0mval_doc\u001b[0m \u001b[1;33m=\u001b[0m \u001b[0mnp\u001b[0m\u001b[1;33m.\u001b[0m\u001b[0mrandom\u001b[0m\u001b[1;33m.\u001b[0m\u001b[0mpermutation\u001b[0m\u001b[1;33m(\u001b[0m\u001b[0mopen\u001b[0m\u001b[1;33m(\u001b[0m\u001b[1;34m'val.csv'\u001b[0m\u001b[1;33m)\u001b[0m\u001b[1;33m.\u001b[0m\u001b[0mreadlines\u001b[0m\u001b[1;33m(\u001b[0m\u001b[1;33m)\u001b[0m\u001b[1;33m)\u001b[0m\u001b[1;33m\u001b[0m\u001b[1;33m\u001b[0m\u001b[0m\n\u001b[0;32m      3\u001b[0m \u001b[0mbatch_size\u001b[0m \u001b[1;33m=\u001b[0m \u001b[1;36m50\u001b[0m\u001b[1;31m#experiment with the batch size\u001b[0m\u001b[1;33m\u001b[0m\u001b[1;33m\u001b[0m\u001b[0m\n",
      "\u001b[1;31mFileNotFoundError\u001b[0m: [Errno 2] No such file or directory: 'train.csv'"
     ]
    }
   ],
   "source": [
    "train_doc = np.random.permutation(open('train.csv').readlines())\n",
    "val_doc = np.random.permutation(open('val.csv').readlines())\n",
    "batch_size = 50#experiment with the batch size"
   ]
  },
  {
   "cell_type": "markdown",
   "metadata": {
    "id": "cKJFsfmFCSzW"
   },
   "source": [
    "### Generator\n",
    "This is one of the most important part of the code. The overall structure of the generator has been given. In the generator, you are going to preprocess the images as you have images of 2 different dimensions as well as create a batch of video frames. You have to experiment with `img_idx`, `y`,`z` and normalization such that you get high accuracy."
   ]
  },
  {
   "cell_type": "code",
   "execution_count": null,
   "metadata": {
    "id": "3vlZTpPGCSzW"
   },
   "outputs": [],
   "source": [
    "def generator(source_path, folder_list, batch_size):\n",
    "    print( 'Source path = ', source_path, '; batch size =', batch_size)\n",
    "    img_idx = [x for x in range(0,x)] #create a list of image numbers you want to use for a particular video\n",
    "    while True:\n",
    "        t = np.random.permutation(folder_list)\n",
    "        num_batches = len(folder_list)//batch_size # calculate the number of batches\n",
    "        for batch in range(num_batches): # we iterate over the number of batches\n",
    "            batch_data = np.zeros((batch_size,x,y,z,channel)) # x is the number of images you use for each video, (y,z) is the final size of the input images and 3 is the number of channels RGB\n",
    "            batch_labels = np.zeros((batch_size,classes)) # batch_labels is the one hot representation of the output\n",
    "            for folder in range(batch_size): # iterate over the batch_size\n",
    "                imgs = os.listdir(source_path+'/'+ t[folder + (batch*batch_size)].split(';')[0]) # read all the images in the folder\n",
    "                for idx,item in enumerate(img_idx): #  Iterate iver the frames/images of a folder to read them in\n",
    "                    image = imread(source_path+'/'+ t[folder + (batch*batch_size)].strip().split(';')[0]+'/'+imgs[item]).astype(np.float32)\n",
    "                    \n",
    "                    #crop the images and resize them. Note that the images are of 2 different shape \n",
    "                    #and the conv3D will throw error if the inputs in a batch have different shapes\n",
    "                    \n",
    "                    temp = imresize(image,(y,z))\n",
    "                    #Converting to gray scale\n",
    "                    temp = temp.mean(axis=-1,keepdims=1) \n",
    "                    temp = temp/127.5-1 #Normalize data\n",
    "                    batch_data[folder,idx] = temp #normalise and feed in the image\n",
    "                    \n",
    "                batch_labels[folder, int(t[folder + (batch*batch_size)].strip().split(';')[2])] = 1\n",
    "                \n",
    "            yield batch_data, batch_labels #you yield the batch_data and the batch_labels, remember what does yield do\n",
    "\n",
    "        \n",
    "        # write the code for the remaining data points which are left after full batches\n",
    "        if (len(folder_list) != batch_size*num_batches):\n",
    "            print(\"Batch: \",num_batches+1,\"Index:\", batch_size)\n",
    "            batch_size = len(folder_list) - (batch_size*num_batches)\n",
    "            batch_data = np.zeros((batch_size,x,y,z,channel)) # x is the number of images you use for each video, (y,z) is the final size of the input images and 3 is the number of channels RGB\n",
    "            batch_labels = np.zeros((batch_size,classes)) # batch_labels is the one hot representation of the output\n",
    "            for folder in range(batch_size): # iterate over the batch_size\n",
    "                imgs = os.listdir(source_path+'/'+ t[folder + (batch*batch_size)].split(';')[0]) # read all the images in the folder\n",
    "                for idx,item in enumerate(img_idx): #  Iterate iver the frames/images of a folder to read them in\n",
    "                    image = imread(source_path+'/'+ t[folder + (batch*batch_size)].strip().split(';')[0]+'/'+imgs[item]).astype(np.float32)\n",
    "                    \n",
    "                    #crop the images and resize them. Note that the images are of 2 different shape \n",
    "                    #and the conv3D will throw error if the inputs in a batch have different shapes\n",
    "                    temp = imresize(image,(y,z))\n",
    "                    #Converting to gray scale\n",
    "                    temp = temp.mean(axis=-1,keepdims=1) \n",
    "                    temp = temp/127.5-1 #Normalize data\n",
    "                    \n",
    "                    batch_data[folder,idx] = temp\n",
    "                   \n",
    "                batch_labels[folder, int(t[folder + (batch*batch_size)].strip().split(';')[2])] = 1\n",
    "            yield batch_data, batch_labels\n",
    "\n",
    "        "
   ]
  },
  {
   "cell_type": "markdown",
   "metadata": {
    "id": "jjT5QkRnCSzY"
   },
   "source": [
    "Note here that a video is represented above in the generator as (number of images, height, width, number of channels). Take this into consideration while creating the model architecture."
   ]
  },
  {
   "cell_type": "code",
   "execution_count": null,
   "metadata": {
    "colab": {
     "base_uri": "https://localhost:8080/"
    },
    "id": "-41qX8INCSzZ",
    "outputId": "50c96da1-5cde-47b1-df31-de61ec88d061"
   },
   "outputs": [],
   "source": [
    "curr_dt_time = datetime.datetime.now()\n",
    "train_path = 'train'\n",
    "val_path = 'val'\n",
    "num_train_sequences = len(train_doc)\n",
    "print('# training sequences =', num_train_sequences)\n",
    "num_val_sequences = len(val_doc)\n",
    "print('# validation sequences =', num_val_sequences)\n",
    "num_epochs = 10 # choose the number of epochs\n",
    "print ('# epochs =', num_epochs)"
   ]
  },
  {
   "cell_type": "markdown",
   "metadata": {
    "id": "Uf_gJ4qbCSzZ"
   },
   "source": [
    "## Model\n",
    "Here you make the model using different functionalities that Keras provides. Remember to use `Conv3D` and `MaxPooling3D` and not `Conv2D` and `Maxpooling2D` for a 3D convolution model. You would want to use `TimeDistributed` while building a Conv2D + RNN model. Also remember that the last layer is the softmax. Design the network in such a way that the model is able to give good accuracy on the least number of parameters so that it can fit in the memory of the webcam."
   ]
  },
  {
   "cell_type": "code",
   "execution_count": null,
   "metadata": {},
   "outputs": [],
   "source": [
    "from keras.models import Sequential, Model\n",
    "from keras.layers import Dense, GRU, Flatten, TimeDistributed, Flatten, BatchNormalization, Activation, Dropout\n",
    "from keras.layers.convolutional import Conv3D, MaxPooling3D\n",
    "from keras.callbacks import ModelCheckpoint, ReduceLROnPlateau\n",
    "from keras import optimizers\n",
    "import keras"
   ]
  },
  {
   "cell_type": "code",
   "execution_count": 8,
   "metadata": {
    "id": "vQo5C7GyRi_7"
   },
   "outputs": [],
   "source": [
    "# First try with x, y, z\n",
    "classes, channel = 5, 3 \n",
    "x, y, z = 30, 120, 120"
   ]
  },
  {
   "cell_type": "code",
   "execution_count": 8,
   "metadata": {
    "id": "5xMgOHdDCSzZ"
   },
   "outputs": [],
   "source": [
    "#write your model here\n",
    "model_1 = Sequential()\n",
    "\n",
    "model_1.add(Conv3D(8, #number of filters \n",
    "                 kernel_size=(3,3,3), \n",
    "                 input_shape=(30, 120, 120, 3),\n",
    "                 padding='same'))\n",
    "model_1.add(BatchNormalization())\n",
    "model_1.add(Activation('relu'))\n",
    "\n",
    "model_1.add(MaxPooling3D(pool_size=(2,2,2)))\n",
    "\n",
    "model_1.add(Conv3D(16, #Number of filters, \n",
    "                 kernel_size=(3,3,3), \n",
    "                 padding='same'))\n",
    "model_1.add(BatchNormalization())\n",
    "model_1.add(Activation('relu'))\n",
    "\n",
    "model_1.add(MaxPooling3D(pool_size=(2,2,2)))\n",
    "\n",
    "model_1.add(Conv3D(32, #Number of filters \n",
    "                 kernel_size=(1,3,3), \n",
    "                 padding='same'))\n",
    "model_1.add(BatchNormalization())\n",
    "model_1.add(Activation('relu'))\n",
    "\n",
    "model_1.add(MaxPooling3D(pool_size=(2,2,2)))\n",
    "\n",
    "model_1.add(Conv3D(64, #Number pf filters \n",
    "                 kernel_size=(1,3,3), \n",
    "                 padding='same'))\n",
    "model_1.add(BatchNormalization())\n",
    "model_1.add(Activation('relu'))\n",
    "\n",
    "model_1.add(MaxPooling3D(pool_size=(2,2,2)))\n",
    "\n",
    "#Flatten Layers\n",
    "model_1.add(Flatten())\n",
    "\n",
    "model_1.add(Dense(1000, activation='relu'))\n",
    "model_1.add(Dropout(0.5))\n",
    "\n",
    "model_1.add(Dense(500, activation='relu'))\n",
    "model_1.add(Dropout(0.5))\n",
    "\n",
    "#softmax layer\n",
    "model_1.add(Dense(5, activation='softmax'))"
   ]
  },
  {
   "cell_type": "markdown",
   "metadata": {
    "id": "KobqnMeTCSza"
   },
   "source": [
    "Now that you have written the model, the next step is to `compile` the model. When you print the `summary` of the model, you'll see the total number of parameters you have to train."
   ]
  },
  {
   "cell_type": "code",
   "execution_count": 9,
   "metadata": {
    "colab": {
     "base_uri": "https://localhost:8080/"
    },
    "id": "nZMmTnyrCSza",
    "outputId": "e84a7ab1-569d-4c93-c109-25346d38837c",
    "scrolled": true
   },
   "outputs": [
    {
     "name": "stdout",
     "output_type": "stream",
     "text": [
      "Model: \"sequential\"\n",
      "_________________________________________________________________\n",
      " Layer (type)                Output Shape              Param #   \n",
      "=================================================================\n",
      " conv3d (Conv3D)             (None, 30, 120, 120, 8)   656       \n",
      "                                                                 \n",
      " batch_normalization (BatchN  (None, 30, 120, 120, 8)  32        \n",
      " ormalization)                                                   \n",
      "                                                                 \n",
      " activation (Activation)     (None, 30, 120, 120, 8)   0         \n",
      "                                                                 \n",
      " max_pooling3d (MaxPooling3D  (None, 15, 60, 60, 8)    0         \n",
      " )                                                               \n",
      "                                                                 \n",
      " conv3d_1 (Conv3D)           (None, 15, 60, 60, 16)    3472      \n",
      "                                                                 \n",
      " batch_normalization_1 (Batc  (None, 15, 60, 60, 16)   64        \n",
      " hNormalization)                                                 \n",
      "                                                                 \n",
      " activation_1 (Activation)   (None, 15, 60, 60, 16)    0         \n",
      "                                                                 \n",
      " max_pooling3d_1 (MaxPooling  (None, 7, 30, 30, 16)    0         \n",
      " 3D)                                                             \n",
      "                                                                 \n",
      " conv3d_2 (Conv3D)           (None, 7, 30, 30, 32)     4640      \n",
      "                                                                 \n",
      " batch_normalization_2 (Batc  (None, 7, 30, 30, 32)    128       \n",
      " hNormalization)                                                 \n",
      "                                                                 \n",
      " activation_2 (Activation)   (None, 7, 30, 30, 32)     0         \n",
      "                                                                 \n",
      " max_pooling3d_2 (MaxPooling  (None, 3, 15, 15, 32)    0         \n",
      " 3D)                                                             \n",
      "                                                                 \n",
      " conv3d_3 (Conv3D)           (None, 3, 15, 15, 64)     18496     \n",
      "                                                                 \n",
      " batch_normalization_3 (Batc  (None, 3, 15, 15, 64)    256       \n",
      " hNormalization)                                                 \n",
      "                                                                 \n",
      " activation_3 (Activation)   (None, 3, 15, 15, 64)     0         \n",
      "                                                                 \n",
      " max_pooling3d_3 (MaxPooling  (None, 1, 7, 7, 64)      0         \n",
      " 3D)                                                             \n",
      "                                                                 \n",
      " flatten (Flatten)           (None, 3136)              0         \n",
      "                                                                 \n",
      " dense (Dense)               (None, 1000)              3137000   \n",
      "                                                                 \n",
      " dropout (Dropout)           (None, 1000)              0         \n",
      "                                                                 \n",
      " dense_1 (Dense)             (None, 500)               500500    \n",
      "                                                                 \n",
      " dropout_1 (Dropout)         (None, 500)               0         \n",
      "                                                                 \n",
      " dense_2 (Dense)             (None, 5)                 2505      \n",
      "                                                                 \n",
      "=================================================================\n",
      "Total params: 3,667,749\n",
      "Trainable params: 3,667,509\n",
      "Non-trainable params: 240\n",
      "_________________________________________________________________\n",
      "None\n"
     ]
    },
    {
     "name": "stderr",
     "output_type": "stream",
     "text": [
      "C:\\Users\\ASUS\\anaconda3\\lib\\site-packages\\keras\\optimizers\\optimizer_v2\\adam.py:117: UserWarning: The `lr` argument is deprecated, use `learning_rate` instead.\n",
      "  super().__init__(name, **kwargs)\n"
     ]
    }
   ],
   "source": [
    "optimiser = optimizers.Adam(lr=0.001) #write your optimizer\n",
    "model_1.compile(optimizer=optimiser, loss='categorical_crossentropy', metrics=['categorical_accuracy'])\n",
    "print(model_1.summary())"
   ]
  },
  {
   "cell_type": "markdown",
   "metadata": {
    "id": "SyPBYkDXCSzb"
   },
   "source": [
    "Let us create the `train_generator` and the `val_generator` which will be used in `.fit_generator`."
   ]
  },
  {
   "cell_type": "code",
   "execution_count": 10,
   "metadata": {
    "id": "W_psf_eACSzb"
   },
   "outputs": [],
   "source": [
    "train_generator = generator(train_path, train_doc, batch_size)\n",
    "val_generator = generator(val_path, val_doc, batch_size)"
   ]
  },
  {
   "cell_type": "code",
   "execution_count": 9,
   "metadata": {
    "colab": {
     "base_uri": "https://localhost:8080/"
    },
    "id": "fBwJzGpCCSzb",
    "outputId": "9dcc7e71-e554-4691-83fc-79288ae438ef"
   },
   "outputs": [
    {
     "name": "stdout",
     "output_type": "stream",
     "text": [
      "WARNING:tensorflow:`period` argument is deprecated. Please use `save_freq` to specify the frequency in number of batches seen.\n"
     ]
    }
   ],
   "source": [
    "model_name = 'model_init' + '_' + str(curr_dt_time).replace(' ','').replace(':','_') + '/'\n",
    "    \n",
    "if not os.path.exists(model_name):\n",
    "    os.mkdir(model_name)\n",
    "        \n",
    "filepath = model_name + 'model-{epoch:05d}-{loss:.5f}-{categorical_accuracy:.5f}-{val_loss:.5f}-{val_categorical_accuracy:.5f}.h5'\n",
    "\n",
    "checkpoint = ModelCheckpoint(filepath, monitor='val_loss', verbose=1, save_best_only=False, save_weights_only=False, mode='auto', period=1)\n",
    "\n",
    "LR = ReduceLROnPlateau(monitor='val_loss', factor=0.5, patience=2, cooldown=1, verbose=1) # write the REducelronplateau code here\n",
    "callbacks_list = [checkpoint, LR]"
   ]
  },
  {
   "cell_type": "markdown",
   "metadata": {
    "id": "mclPv55xCSzc"
   },
   "source": [
    "The `steps_per_epoch` and `validation_steps` are used by `fit_generator` to decide the number of next() calls it need to make."
   ]
  },
  {
   "cell_type": "code",
   "execution_count": 10,
   "metadata": {
    "id": "y_m8XZUiCSzc"
   },
   "outputs": [],
   "source": [
    "if (num_train_sequences%batch_size) == 0:\n",
    "    steps_per_epoch = int(num_train_sequences/batch_size)\n",
    "else:\n",
    "    steps_per_epoch = (num_train_sequences//batch_size) + 1\n",
    "\n",
    "if (num_val_sequences%batch_size) == 0:\n",
    "    validation_steps = int(num_val_sequences/batch_size)\n",
    "else:\n",
    "    validation_steps = (num_val_sequences//batch_size) + 1"
   ]
  },
  {
   "cell_type": "markdown",
   "metadata": {
    "id": "qsWa4dN7CSzc"
   },
   "source": [
    "Let us now fit the model. This will start training the model and with the help of the checkpoints, you'll be able to save the model at the end of each epoch."
   ]
  },
  {
   "cell_type": "code",
   "execution_count": 13,
   "metadata": {
    "colab": {
     "base_uri": "https://localhost:8080/",
     "height": 470
    },
    "id": "PBfLk1_ECSzd",
    "outputId": "156e384e-6992-499f-cba2-d6f9ad83c880"
   },
   "outputs": [
    {
     "name": "stderr",
     "output_type": "stream",
     "text": [
      "C:\\Users\\ASUS\\AppData\\Local\\Temp\\ipykernel_1648\\2273047050.py:1: UserWarning: `Model.fit_generator` is deprecated and will be removed in a future version. Please use `Model.fit`, which supports generators.\n",
      "  model_1.fit_generator(train_generator, steps_per_epoch=steps_per_epoch, epochs=num_epochs, verbose=1,\n"
     ]
    },
    {
     "name": "stdout",
     "output_type": "stream",
     "text": [
      "Source path =  train ; batch size = 50\n"
     ]
    },
    {
     "name": "stderr",
     "output_type": "stream",
     "text": [
      "C:\\Users\\ASUS\\AppData\\Local\\Temp\\ipykernel_1648\\974584729.py:13: DeprecationWarning: Starting with ImageIO v3 the behavior of this function will switch to that of iio.v3.imread. To keep the current behavior (and make this warning dissapear) use `import imageio.v2 as imageio` or call `imageio.v2.imread` directly.\n",
      "  image = imread(source_path+'/'+ t[folder + (batch*batch_size)].strip().split(';')[0]+'/'+imgs[item]).astype(np.float32)\n"
     ]
    },
    {
     "name": "stdout",
     "output_type": "stream",
     "text": [
      "Epoch 1/10\n",
      "12/14 [========================>.....] - ETA: 2:17 - loss: 4.7289 - categorical_accuracy: 0.2783Batch:  14 Index: 50\n"
     ]
    },
    {
     "name": "stderr",
     "output_type": "stream",
     "text": [
      "C:\\Users\\ASUS\\AppData\\Local\\Temp\\ipykernel_1648\\974584729.py:38: DeprecationWarning: Starting with ImageIO v3 the behavior of this function will switch to that of iio.v3.imread. To keep the current behavior (and make this warning dissapear) use `import imageio.v2 as imageio` or call `imageio.v2.imread` directly.\n",
      "  image = imread(source_path+'/'+ t[folder + (batch*batch_size)].strip().split(';')[0]+'/'+imgs[item]).astype(np.float32)\n"
     ]
    },
    {
     "name": "stdout",
     "output_type": "stream",
     "text": [
      "14/14 [==============================] - ETA: 0s - loss: 4.5124 - categorical_accuracy: 0.2805  Source path =  val ; batch size = 50\n",
      "\n",
      "Epoch 1: saving model to model_init_2023-02-2007_33_26.620794\\model-00001-4.51245-0.28054-2.25369-0.23000.h5\n",
      "14/14 [==============================] - 1065s 76s/step - loss: 4.5124 - categorical_accuracy: 0.2805 - val_loss: 2.2537 - val_categorical_accuracy: 0.2300 - lr: 0.0010\n",
      "Epoch 2/10\n",
      "14/14 [==============================] - ETA: 0s - loss: 2.1516 - categorical_accuracy: 0.4011 \n",
      "Epoch 2: saving model to model_init_2023-02-2007_33_26.620794\\model-00002-2.15161-0.40110-1.28199-0.49000.h5\n",
      "14/14 [==============================] - 222s 16s/step - loss: 2.1516 - categorical_accuracy: 0.4011 - val_loss: 1.2820 - val_categorical_accuracy: 0.4900 - lr: 0.0010\n",
      "Epoch 3/10\n",
      "14/14 [==============================] - ETA: 0s - loss: 1.9413 - categorical_accuracy: 0.4066 \n",
      "Epoch 3: saving model to model_init_2023-02-2007_33_26.620794\\model-00003-1.94130-0.40659-1.35224-0.38000.h5\n",
      "14/14 [==============================] - 222s 16s/step - loss: 1.9413 - categorical_accuracy: 0.4066 - val_loss: 1.3522 - val_categorical_accuracy: 0.3800 - lr: 0.0010\n",
      "Epoch 4/10\n",
      "14/14 [==============================] - ETA: 0s - loss: 1.9556 - categorical_accuracy: 0.3132 \n",
      "Epoch 4: saving model to model_init_2023-02-2007_33_26.620794\\model-00004-1.95561-0.31319-1.53038-0.37000.h5\n",
      "\n",
      "Epoch 4: ReduceLROnPlateau reducing learning rate to 0.0005000000237487257.\n",
      "14/14 [==============================] - 223s 16s/step - loss: 1.9556 - categorical_accuracy: 0.3132 - val_loss: 1.5304 - val_categorical_accuracy: 0.3700 - lr: 0.0010\n",
      "Epoch 5/10\n",
      "14/14 [==============================] - ETA: 0s - loss: 1.4632 - categorical_accuracy: 0.3846 \n",
      "Epoch 5: saving model to model_init_2023-02-2007_33_26.620794\\model-00005-1.46315-0.38462-1.63499-0.17000.h5\n",
      "14/14 [==============================] - 219s 16s/step - loss: 1.4632 - categorical_accuracy: 0.3846 - val_loss: 1.6350 - val_categorical_accuracy: 0.1700 - lr: 5.0000e-04\n",
      "Epoch 6/10\n",
      "14/14 [==============================] - ETA: 0s - loss: 1.2178 - categorical_accuracy: 0.4890 \n",
      "Epoch 6: saving model to model_init_2023-02-2007_33_26.620794\\model-00006-1.21776-0.48901-1.67443-0.21000.h5\n",
      "\n",
      "Epoch 6: ReduceLROnPlateau reducing learning rate to 0.0002500000118743628.\n",
      "14/14 [==============================] - 221s 16s/step - loss: 1.2178 - categorical_accuracy: 0.4890 - val_loss: 1.6744 - val_categorical_accuracy: 0.2100 - lr: 5.0000e-04\n",
      "Epoch 7/10\n",
      "14/14 [==============================] - ETA: 0s - loss: 1.4913 - categorical_accuracy: 0.4011 \n",
      "Epoch 7: saving model to model_init_2023-02-2007_33_26.620794\\model-00007-1.49131-0.40110-1.77134-0.28000.h5\n",
      "14/14 [==============================] - 256s 19s/step - loss: 1.4913 - categorical_accuracy: 0.4011 - val_loss: 1.7713 - val_categorical_accuracy: 0.2800 - lr: 2.5000e-04\n",
      "Epoch 8/10\n",
      "14/14 [==============================] - ETA: 0s - loss: 1.2804 - categorical_accuracy: 0.4505 \n",
      "Epoch 8: saving model to model_init_2023-02-2007_33_26.620794\\model-00008-1.28045-0.45055-1.81059-0.21000.h5\n",
      "\n",
      "Epoch 8: ReduceLROnPlateau reducing learning rate to 0.0001250000059371814.\n",
      "14/14 [==============================] - 238s 17s/step - loss: 1.2804 - categorical_accuracy: 0.4505 - val_loss: 1.8106 - val_categorical_accuracy: 0.2100 - lr: 2.5000e-04\n",
      "Epoch 9/10\n",
      "14/14 [==============================] - ETA: 0s - loss: 1.1195 - categorical_accuracy: 0.5220 \n",
      "Epoch 9: saving model to model_init_2023-02-2007_33_26.620794\\model-00009-1.11949-0.52198-1.86998-0.24000.h5\n",
      "14/14 [==============================] - 221s 16s/step - loss: 1.1195 - categorical_accuracy: 0.5220 - val_loss: 1.8700 - val_categorical_accuracy: 0.2400 - lr: 1.2500e-04\n",
      "Epoch 10/10\n",
      "14/14 [==============================] - ETA: 0s - loss: 1.1294 - categorical_accuracy: 0.5110 \n",
      "Epoch 10: saving model to model_init_2023-02-2007_33_26.620794\\model-00010-1.12942-0.51099-1.75156-0.33000.h5\n",
      "\n",
      "Epoch 10: ReduceLROnPlateau reducing learning rate to 6.25000029685907e-05.\n",
      "14/14 [==============================] - 220s 16s/step - loss: 1.1294 - categorical_accuracy: 0.5110 - val_loss: 1.7516 - val_categorical_accuracy: 0.3300 - lr: 1.2500e-04\n"
     ]
    },
    {
     "data": {
      "text/plain": [
       "<keras.callbacks.History at 0x1bcfbfce130>"
      ]
     },
     "execution_count": 13,
     "metadata": {},
     "output_type": "execute_result"
    }
   ],
   "source": [
    "model_1.fit_generator(train_generator, steps_per_epoch=steps_per_epoch, epochs=num_epochs, verbose=1, \n",
    "                    callbacks=callbacks_list, validation_data=val_generator, \n",
    "                    validation_steps=validation_steps, class_weight=None, workers=1, initial_epoch=0)"
   ]
  },
  {
   "cell_type": "markdown",
   "metadata": {
    "id": "JE8KaTj0Sadl"
   },
   "source": [
    "# Model 2 -> experimenting with different CNN layer architect**ure**"
   ]
  },
  {
   "cell_type": "code",
   "execution_count": 10,
   "metadata": {
    "id": "W5iZeupuQcrV"
   },
   "outputs": [
    {
     "name": "stdout",
     "output_type": "stream",
     "text": [
      "Model: \"sequential\"\n",
      "_________________________________________________________________\n",
      " Layer (type)                Output Shape              Param #   \n",
      "=================================================================\n",
      " conv3d (Conv3D)             (None, 30, 120, 120, 32)  2624      \n",
      "                                                                 \n",
      " activation (Activation)     (None, 30, 120, 120, 32)  0         \n",
      "                                                                 \n",
      " conv3d_1 (Conv3D)           (None, 30, 120, 120, 32)  27680     \n",
      "                                                                 \n",
      " activation_1 (Activation)   (None, 30, 120, 120, 32)  0         \n",
      "                                                                 \n",
      " max_pooling3d (MaxPooling3D  (None, 10, 40, 40, 32)   0         \n",
      " )                                                               \n",
      "                                                                 \n",
      " dropout (Dropout)           (None, 10, 40, 40, 32)    0         \n",
      "                                                                 \n",
      " conv3d_2 (Conv3D)           (None, 10, 40, 40, 64)    55360     \n",
      "                                                                 \n",
      " activation_2 (Activation)   (None, 10, 40, 40, 64)    0         \n",
      "                                                                 \n",
      " conv3d_3 (Conv3D)           (None, 10, 40, 40, 64)    110656    \n",
      "                                                                 \n",
      " activation_3 (Activation)   (None, 10, 40, 40, 64)    0         \n",
      "                                                                 \n",
      " max_pooling3d_1 (MaxPooling  (None, 4, 14, 14, 64)    0         \n",
      " 3D)                                                             \n",
      "                                                                 \n",
      " dropout_1 (Dropout)         (None, 4, 14, 14, 64)     0         \n",
      "                                                                 \n",
      " flatten (Flatten)           (None, 50176)             0         \n",
      "                                                                 \n",
      " dense (Dense)               (None, 512)               25690624  \n",
      "                                                                 \n",
      " dropout_2 (Dropout)         (None, 512)               0         \n",
      "                                                                 \n",
      " dense_1 (Dense)             (None, 5)                 2565      \n",
      "                                                                 \n",
      "=================================================================\n",
      "Total params: 25,889,509\n",
      "Trainable params: 25,889,509\n",
      "Non-trainable params: 0\n",
      "_________________________________________________________________\n"
     ]
    }
   ],
   "source": [
    "from keras.losses import categorical_crossentropy\n",
    "from keras.optimizers import Adam\n",
    "\n",
    "# Define model 2\n",
    "model_2 = Sequential()\n",
    "model_2.add(Conv3D(32, kernel_size=(3, 3, 3), input_shape=(x,y,z,channel), padding='same'))\n",
    "model_2.add(Activation('relu'))\n",
    "model_2.add(Conv3D(32, kernel_size=(3, 3, 3), padding='same'))\n",
    "model_2.add(Activation('relu'))\n",
    "model_2.add(MaxPooling3D(pool_size=(3, 3, 3), padding='same'))\n",
    "model_2.add(Dropout(0.25))\n",
    "\n",
    "model_2.add(Conv3D(64, kernel_size=(3, 3, 3), padding='same'))\n",
    "model_2.add(Activation('relu'))\n",
    "model_2.add(Conv3D(64, kernel_size=(3, 3, 3), padding='same'))\n",
    "model_2.add(Activation('relu'))\n",
    "model_2.add(MaxPooling3D(pool_size=(3, 3, 3), padding='same'))\n",
    "model_2.add(Dropout(0.25))\n",
    "\n",
    "model_2.add(Flatten())\n",
    "model_2.add(Dense(512, activation='relu'))\n",
    "model_2.add(Dropout(0.5))\n",
    "model_2.add(Dense(classes, activation='softmax'))\n",
    "\n",
    "model_2.compile(optimizer=Adam(), loss='categorical_crossentropy', metrics=['categorical_accuracy'])\n",
    "model_2.summary()"
   ]
  },
  {
   "cell_type": "code",
   "execution_count": 11,
   "metadata": {
    "id": "uo-NdNdUQon6"
   },
   "outputs": [],
   "source": [
    "train_generator = generator(train_path, train_doc, batch_size)\n",
    "val_generator = generator(val_path, val_doc, batch_size)"
   ]
  },
  {
   "cell_type": "code",
   "execution_count": null,
   "metadata": {
    "id": "mX1bIp5zQq1Q"
   },
   "outputs": [
    {
     "name": "stderr",
     "output_type": "stream",
     "text": [
      "C:\\Users\\ASUS\\AppData\\Local\\Temp\\ipykernel_14360\\876195745.py:1: UserWarning: `Model.fit_generator` is deprecated and will be removed in a future version. Please use `Model.fit`, which supports generators.\n",
      "  model_2.fit_generator(train_generator, steps_per_epoch=steps_per_epoch, epochs=num_epochs, verbose=1,\n",
      "C:\\Users\\ASUS\\AppData\\Local\\Temp\\ipykernel_14360\\974584729.py:13: DeprecationWarning: Starting with ImageIO v3 the behavior of this function will switch to that of iio.v3.imread. To keep the current behavior (and make this warning dissapear) use `import imageio.v2 as imageio` or call `imageio.v2.imread` directly.\n",
      "  image = imread(source_path+'/'+ t[folder + (batch*batch_size)].strip().split(';')[0]+'/'+imgs[item]).astype(np.float32)\n"
     ]
    },
    {
     "name": "stdout",
     "output_type": "stream",
     "text": [
      "Source path =  train ; batch size = 50\n",
      "Epoch 1/10\n"
     ]
    }
   ],
   "source": [
    "model_2.fit_generator(train_generator, steps_per_epoch=steps_per_epoch, epochs=num_epochs, verbose=1, \n",
    "                    callbacks=callbacks_list, validation_data=val_generator, \n",
    "                    validation_steps=validation_steps, class_weight=None, workers=1, initial_epoch=0)"
   ]
  },
  {
   "cell_type": "markdown",
   "metadata": {
    "id": "XGXoJeorSiiC"
   },
   "source": [
    "# Model_3: Experimenting with x, y, z values"
   ]
  },
  {
   "cell_type": "code",
   "execution_count": 13,
   "metadata": {
    "id": "4TF3SeKmSzwT"
   },
   "outputs": [],
   "source": [
    "x, y, z = 30, 60, 60"
   ]
  },
  {
   "cell_type": "code",
   "execution_count": 14,
   "metadata": {
    "id": "2kpVN_MXS53a"
   },
   "outputs": [
    {
     "name": "stdout",
     "output_type": "stream",
     "text": [
      "Model: \"sequential\"\n",
      "_________________________________________________________________\n",
      " Layer (type)                Output Shape              Param #   \n",
      "=================================================================\n",
      " conv3d (Conv3D)             (None, 30, 60, 60, 32)    2624      \n",
      "                                                                 \n",
      " activation (Activation)     (None, 30, 60, 60, 32)    0         \n",
      "                                                                 \n",
      " conv3d_1 (Conv3D)           (None, 30, 60, 60, 32)    27680     \n",
      "                                                                 \n",
      " activation_1 (Activation)   (None, 30, 60, 60, 32)    0         \n",
      "                                                                 \n",
      " max_pooling3d (MaxPooling3D  (None, 10, 20, 20, 32)   0         \n",
      " )                                                               \n",
      "                                                                 \n",
      " dropout (Dropout)           (None, 10, 20, 20, 32)    0         \n",
      "                                                                 \n",
      " conv3d_2 (Conv3D)           (None, 10, 20, 20, 64)    55360     \n",
      "                                                                 \n",
      " activation_2 (Activation)   (None, 10, 20, 20, 64)    0         \n",
      "                                                                 \n",
      " conv3d_3 (Conv3D)           (None, 10, 20, 20, 64)    110656    \n",
      "                                                                 \n",
      " activation_3 (Activation)   (None, 10, 20, 20, 64)    0         \n",
      "                                                                 \n",
      " max_pooling3d_1 (MaxPooling  (None, 4, 7, 7, 64)      0         \n",
      " 3D)                                                             \n",
      "                                                                 \n",
      " dropout_1 (Dropout)         (None, 4, 7, 7, 64)       0         \n",
      "                                                                 \n",
      " flatten (Flatten)           (None, 12544)             0         \n",
      "                                                                 \n",
      " dense (Dense)               (None, 512)               6423040   \n",
      "                                                                 \n",
      " dropout_2 (Dropout)         (None, 512)               0         \n",
      "                                                                 \n",
      " dense_1 (Dense)             (None, 5)                 2565      \n",
      "                                                                 \n",
      "=================================================================\n",
      "Total params: 6,621,925\n",
      "Trainable params: 6,621,925\n",
      "Non-trainable params: 0\n",
      "_________________________________________________________________\n"
     ]
    }
   ],
   "source": [
    "# Define model b\n",
    "model_3 = Sequential()\n",
    "model_3.add(Conv3D(32, kernel_size=(3, 3, 3), input_shape=(x,y,z,channel), padding='same'))\n",
    "model_3.add(Activation('relu'))\n",
    "model_3.add(Conv3D(32, kernel_size=(3, 3, 3), padding='same'))\n",
    "model_3.add(Activation('relu'))\n",
    "model_3.add(MaxPooling3D(pool_size=(3, 3, 3), padding='same'))\n",
    "model_3.add(Dropout(0.25))\n",
    "\n",
    "model_3.add(Conv3D(64, kernel_size=(3, 3, 3), padding='same'))\n",
    "model_3.add(Activation('relu'))\n",
    "model_3.add(Conv3D(64, kernel_size=(3, 3, 3), padding='same'))\n",
    "model_3.add(Activation('relu'))\n",
    "model_3.add(MaxPooling3D(pool_size=(3, 3, 3), padding='same'))\n",
    "model_3.add(Dropout(0.25))\n",
    "\n",
    "model_3.add(Flatten())\n",
    "model_3.add(Dense(512, activation='relu'))\n",
    "model_3.add(Dropout(0.5))\n",
    "model_3.add(Dense(classes, activation='softmax'))\n",
    "\n",
    "model_3.compile(optimizer=keras.optimizers.Adam(), loss='categorical_crossentropy', metrics=['categorical_accuracy'])\n",
    "model_3.summary()"
   ]
  },
  {
   "cell_type": "code",
   "execution_count": 18,
   "metadata": {
    "id": "hPZmFnsHTCph"
   },
   "outputs": [],
   "source": [
    "train_generator = generator(train_path, train_doc, batch_size)\n",
    "val_generator = generator(val_path, val_doc, batch_size)"
   ]
  },
  {
   "cell_type": "code",
   "execution_count": null,
   "metadata": {
    "id": "P-iP036XTEj2"
   },
   "outputs": [
    {
     "name": "stderr",
     "output_type": "stream",
     "text": [
      "C:\\Users\\ASUS\\AppData\\Local\\Temp\\ipykernel_12936\\1978509317.py:1: UserWarning: `Model.fit_generator` is deprecated and will be removed in a future version. Please use `Model.fit`, which supports generators.\n",
      "  model_3.fit_generator(train_generator, steps_per_epoch=steps_per_epoch, epochs=num_epochs, verbose=1,\n",
      "C:\\Users\\ASUS\\AppData\\Local\\Temp\\ipykernel_12936\\974584729.py:13: DeprecationWarning: Starting with ImageIO v3 the behavior of this function will switch to that of iio.v3.imread. To keep the current behavior (and make this warning dissapear) use `import imageio.v2 as imageio` or call `imageio.v2.imread` directly.\n",
      "  image = imread(source_path+'/'+ t[folder + (batch*batch_size)].strip().split(';')[0]+'/'+imgs[item]).astype(np.float32)\n"
     ]
    },
    {
     "name": "stdout",
     "output_type": "stream",
     "text": [
      "Source path =  train ; batch size = 50\n",
      "Epoch 1/10\n"
     ]
    }
   ],
   "source": [
    "model_3.fit_generator(train_generator, steps_per_epoch=steps_per_epoch, epochs=num_epochs, verbose=1, \n",
    "                    callbacks=callbacks_list, validation_data=val_generator, \n",
    "                    validation_steps=validation_steps, class_weight=None, workers=1, initial_epoch=0)"
   ]
  },
  {
   "cell_type": "markdown",
   "metadata": {
    "id": "enJJzPvTTJbT"
   },
   "source": [
    "# With batch size as 50 we see in above cases that machine is not working, Therefore experimenting with batch size.\n",
    "# lets take batch size: 30\n"
   ]
  },
  {
   "cell_type": "code",
   "execution_count": 15,
   "metadata": {
    "id": "uZQee9XgTWrc"
   },
   "outputs": [],
   "source": [
    "train_generator = generator(train_path, train_doc, 30)\n",
    "val_generator = generator(val_path, val_doc, 30)"
   ]
  },
  {
   "cell_type": "code",
   "execution_count": 16,
   "metadata": {
    "id": "Tu4AurXATZGM"
   },
   "outputs": [
    {
     "name": "stderr",
     "output_type": "stream",
     "text": [
      "C:\\Users\\ASUS\\AppData\\Local\\Temp\\ipykernel_4704\\1978509317.py:1: UserWarning: `Model.fit_generator` is deprecated and will be removed in a future version. Please use `Model.fit`, which supports generators.\n",
      "  model_3.fit_generator(train_generator, steps_per_epoch=steps_per_epoch, epochs=num_epochs, verbose=1,\n",
      "C:\\Users\\ASUS\\AppData\\Local\\Temp\\ipykernel_4704\\974584729.py:13: DeprecationWarning: Starting with ImageIO v3 the behavior of this function will switch to that of iio.v3.imread. To keep the current behavior (and make this warning dissapear) use `import imageio.v2 as imageio` or call `imageio.v2.imread` directly.\n",
      "  image = imread(source_path+'/'+ t[folder + (batch*batch_size)].strip().split(';')[0]+'/'+imgs[item]).astype(np.float32)\n"
     ]
    },
    {
     "name": "stdout",
     "output_type": "stream",
     "text": [
      "Source path =  train ; batch size = 30\n",
      "Epoch 1/10\n",
      "14/14 [==============================] - ETA: 0s - loss: 1.7547 - categorical_accuracy: 0.2238 Source path =  val ; batch size = 30\n",
      "\n",
      "Epoch 1: saving model to model_init_2023-02-2011_16_20.930504\\model-00001-1.75468-0.22381-1.60816-0.20000.h5\n",
      "14/14 [==============================] - 673s 48s/step - loss: 1.7547 - categorical_accuracy: 0.2238 - val_loss: 1.6082 - val_categorical_accuracy: 0.2000 - lr: 0.0010\n",
      "Epoch 2/10\n",
      " 7/14 [==============>...............] - ETA: 5:02 - loss: 1.6095 - categorical_accuracy: 0.1810Batch:  23 Index: 30\n"
     ]
    },
    {
     "name": "stderr",
     "output_type": "stream",
     "text": [
      "C:\\Users\\ASUS\\AppData\\Local\\Temp\\ipykernel_4704\\974584729.py:38: DeprecationWarning: Starting with ImageIO v3 the behavior of this function will switch to that of iio.v3.imread. To keep the current behavior (and make this warning dissapear) use `import imageio.v2 as imageio` or call `imageio.v2.imread` directly.\n",
      "  image = imread(source_path+'/'+ t[folder + (batch*batch_size)].strip().split(';')[0]+'/'+imgs[item]).astype(np.float32)\n"
     ]
    },
    {
     "name": "stdout",
     "output_type": "stream",
     "text": [
      "14/14 [==============================] - ETA: 0s - loss: 1.6023 - categorical_accuracy: 0.1938 Batch:  4 Index: 30\n",
      "\n",
      "Epoch 2: saving model to model_init_2023-02-2011_16_20.930504\\model-00002-1.60235-0.19380-1.64583-0.15000.h5\n",
      "14/14 [==============================] - 374s 25s/step - loss: 1.6023 - categorical_accuracy: 0.1938 - val_loss: 1.6458 - val_categorical_accuracy: 0.1500 - lr: 0.0010\n",
      "Epoch 3/10\n",
      "14/14 [==============================] - ETA: 0s - loss: 1.6378 - categorical_accuracy: 0.2143\n",
      "Epoch 3: saving model to model_init_2023-02-2011_16_20.930504\\model-00003-1.63781-0.21429-1.61345-0.20000.h5\n",
      "\n",
      "Epoch 3: ReduceLROnPlateau reducing learning rate to 0.0005000000237487257.\n",
      "14/14 [==============================] - 68s 5s/step - loss: 1.6378 - categorical_accuracy: 0.2143 - val_loss: 1.6134 - val_categorical_accuracy: 0.2000 - lr: 0.0010\n",
      "Epoch 4/10\n",
      "14/14 [==============================] - ETA: 0s - loss: 1.6121 - categorical_accuracy: 0.1429\n",
      "Epoch 4: saving model to model_init_2023-02-2011_16_20.930504\\model-00004-1.61209-0.14286-1.60761-0.15000.h5\n",
      "14/14 [==============================] - 67s 5s/step - loss: 1.6121 - categorical_accuracy: 0.1429 - val_loss: 1.6076 - val_categorical_accuracy: 0.1500 - lr: 5.0000e-04\n",
      "Epoch 5/10\n",
      "14/14 [==============================] - ETA: 0s - loss: 1.6078 - categorical_accuracy: 0.2857\n",
      "Epoch 5: saving model to model_init_2023-02-2011_16_20.930504\\model-00005-1.60782-0.28571-1.60152-0.30000.h5\n",
      "14/14 [==============================] - 67s 5s/step - loss: 1.6078 - categorical_accuracy: 0.2857 - val_loss: 1.6015 - val_categorical_accuracy: 0.3000 - lr: 5.0000e-04\n",
      "Epoch 6/10\n",
      "14/14 [==============================] - ETA: 0s - loss: 1.6141 - categorical_accuracy: 0.1190\n",
      "Epoch 6: saving model to model_init_2023-02-2011_16_20.930504\\model-00006-1.61411-0.11905-1.60590-0.25000.h5\n",
      "14/14 [==============================] - 67s 5s/step - loss: 1.6141 - categorical_accuracy: 0.1190 - val_loss: 1.6059 - val_categorical_accuracy: 0.2500 - lr: 5.0000e-04\n",
      "Epoch 7/10\n",
      "14/14 [==============================] - ETA: 0s - loss: 1.6095 - categorical_accuracy: 0.2381\n",
      "Epoch 7: saving model to model_init_2023-02-2011_16_20.930504\\model-00007-1.60954-0.23810-1.61070-0.20000.h5\n",
      "\n",
      "Epoch 7: ReduceLROnPlateau reducing learning rate to 0.0002500000118743628.\n",
      "14/14 [==============================] - 67s 5s/step - loss: 1.6095 - categorical_accuracy: 0.2381 - val_loss: 1.6107 - val_categorical_accuracy: 0.2000 - lr: 5.0000e-04\n",
      "Epoch 8/10\n",
      "14/14 [==============================] - ETA: 0s - loss: 1.6126 - categorical_accuracy: 0.0952\n",
      "Epoch 8: saving model to model_init_2023-02-2011_16_20.930504\\model-00008-1.61257-0.09524-1.61121-0.20000.h5\n",
      "14/14 [==============================] - 65s 5s/step - loss: 1.6126 - categorical_accuracy: 0.0952 - val_loss: 1.6112 - val_categorical_accuracy: 0.2000 - lr: 2.5000e-04\n",
      "Epoch 9/10\n",
      "14/14 [==============================] - ETA: 0s - loss: 1.6142 - categorical_accuracy: 0.0476\n",
      "Epoch 9: saving model to model_init_2023-02-2011_16_20.930504\\model-00009-1.61424-0.04762-1.61403-0.10000.h5\n",
      "\n",
      "Epoch 9: ReduceLROnPlateau reducing learning rate to 0.0001250000059371814.\n",
      "14/14 [==============================] - 67s 5s/step - loss: 1.6142 - categorical_accuracy: 0.0476 - val_loss: 1.6140 - val_categorical_accuracy: 0.1000 - lr: 2.5000e-04\n",
      "Epoch 10/10\n",
      "14/14 [==============================] - ETA: 0s - loss: 1.6030 - categorical_accuracy: 0.4286\n",
      "Epoch 10: saving model to model_init_2023-02-2011_16_20.930504\\model-00010-1.60304-0.42857-1.60759-0.25000.h5\n",
      "14/14 [==============================] - 66s 5s/step - loss: 1.6030 - categorical_accuracy: 0.4286 - val_loss: 1.6076 - val_categorical_accuracy: 0.2500 - lr: 1.2500e-04\n"
     ]
    },
    {
     "data": {
      "text/plain": [
       "<keras.callbacks.History at 0x20fe24bec10>"
      ]
     },
     "execution_count": 16,
     "metadata": {},
     "output_type": "execute_result"
    }
   ],
   "source": [
    "model_3.fit_generator(train_generator, steps_per_epoch=steps_per_epoch, epochs=num_epochs, verbose=1, \n",
    "                    callbacks=callbacks_list, validation_data=val_generator, \n",
    "                    validation_steps=validation_steps, class_weight=None, workers=1, initial_epoch=0)"
   ]
  },
  {
   "cell_type": "markdown",
   "metadata": {},
   "source": [
    "# Model experiment 4"
   ]
  },
  {
   "cell_type": "code",
   "execution_count": 15,
   "metadata": {},
   "outputs": [
    {
     "name": "stdout",
     "output_type": "stream",
     "text": [
      "Model: \"sequential_2\"\n",
      "_________________________________________________________________\n",
      " Layer (type)                Output Shape              Param #   \n",
      "=================================================================\n",
      " conv3d_4 (Conv3D)           (None, 30, 120, 120, 8)   656       \n",
      "                                                                 \n",
      " batch_normalization_3 (Batc  (None, 30, 120, 120, 8)  32        \n",
      " hNormalization)                                                 \n",
      "                                                                 \n",
      " activation_4 (Activation)   (None, 30, 120, 120, 8)   0         \n",
      "                                                                 \n",
      " max_pooling3d_4 (MaxPooling  (None, 15, 60, 60, 8)    0         \n",
      " 3D)                                                             \n",
      "                                                                 \n",
      " conv3d_5 (Conv3D)           (None, 15, 60, 60, 16)    3472      \n",
      "                                                                 \n",
      " batch_normalization_4 (Batc  (None, 15, 60, 60, 16)   64        \n",
      " hNormalization)                                                 \n",
      "                                                                 \n",
      " activation_5 (Activation)   (None, 15, 60, 60, 16)    0         \n",
      "                                                                 \n",
      " max_pooling3d_5 (MaxPooling  (None, 7, 30, 30, 16)    0         \n",
      " 3D)                                                             \n",
      "                                                                 \n",
      " conv3d_6 (Conv3D)           (None, 7, 30, 30, 32)     4640      \n",
      "                                                                 \n",
      " batch_normalization_5 (Batc  (None, 7, 30, 30, 32)    128       \n",
      " hNormalization)                                                 \n",
      "                                                                 \n",
      " activation_6 (Activation)   (None, 7, 30, 30, 32)     0         \n",
      "                                                                 \n",
      " max_pooling3d_6 (MaxPooling  (None, 3, 15, 15, 32)    0         \n",
      " 3D)                                                             \n",
      "                                                                 \n",
      " conv3d_7 (Conv3D)           (None, 3, 15, 15, 64)     18496     \n",
      "                                                                 \n",
      " activation_7 (Activation)   (None, 3, 15, 15, 64)     0         \n",
      "                                                                 \n",
      " dropout_3 (Dropout)         (None, 3, 15, 15, 64)     0         \n",
      "                                                                 \n",
      " max_pooling3d_7 (MaxPooling  (None, 1, 7, 7, 64)      0         \n",
      " 3D)                                                             \n",
      "                                                                 \n",
      " flatten_1 (Flatten)         (None, 3136)              0         \n",
      "                                                                 \n",
      " dense_3 (Dense)             (None, 1000)              3137000   \n",
      "                                                                 \n",
      " dropout_4 (Dropout)         (None, 1000)              0         \n",
      "                                                                 \n",
      " dense_4 (Dense)             (None, 500)               500500    \n",
      "                                                                 \n",
      " dropout_5 (Dropout)         (None, 500)               0         \n",
      "                                                                 \n",
      " dense_5 (Dense)             (None, 5)                 2505      \n",
      "                                                                 \n",
      "=================================================================\n",
      "Total params: 3,667,493\n",
      "Trainable params: 3,667,381\n",
      "Non-trainable params: 112\n",
      "_________________________________________________________________\n"
     ]
    }
   ],
   "source": [
    "x = 30 # number of frames\n",
    "y = 120 # image width\n",
    "z = 120 # image height \n",
    "\n",
    "classes = 5\n",
    "channel = 3\n",
    "nb_filters = [8,16,32,64]\n",
    "nb_dense = [1000, 500, 5]\n",
    "input_shape=(x,y,z,channel)\n",
    "\n",
    "# Define model\n",
    "model_4 = Sequential()\n",
    "\n",
    "model_4.add(Conv3D(nb_filters[0], \n",
    "                 kernel_size=(3,3,3), \n",
    "                 input_shape=input_shape,\n",
    "                 padding='same'))\n",
    "model_4.add(BatchNormalization())\n",
    "model_4.add(Activation('relu'))\n",
    "\n",
    "model_4.add(MaxPooling3D(pool_size=(2,2,2)))\n",
    "\n",
    "model_4.add(Conv3D(nb_filters[1], \n",
    "                 kernel_size=(3,3,3), \n",
    "                 padding='same'))\n",
    "model_4.add(BatchNormalization())\n",
    "model_4.add(Activation('relu'))\n",
    "\n",
    "model_4.add(MaxPooling3D(pool_size=(2,2,2)))\n",
    "\n",
    "model_4.add(Conv3D(nb_filters[2], \n",
    "                 kernel_size=(1,3,3), \n",
    "                 padding='same'))\n",
    "model_4.add(BatchNormalization())\n",
    "model_4.add(Activation('relu'))\n",
    "\n",
    "model_4.add(MaxPooling3D(pool_size=(2,2,2)))\n",
    "\n",
    "model_4.add(Conv3D(nb_filters[3], \n",
    "                 kernel_size=(1,3,3), \n",
    "                 padding='same'))\n",
    "model_4.add(Activation('relu'))\n",
    "model_4.add(Dropout(0.25))\n",
    "\n",
    "model_4.add(MaxPooling3D(pool_size=(2,2,2)))\n",
    "\n",
    "#Flatten Layers\n",
    "model_4.add(Flatten())\n",
    "\n",
    "model_4.add(Dense(nb_dense[0], activation='relu'))\n",
    "model_4.add(Dropout(0.5))\n",
    "\n",
    "model_4.add(Dense(nb_dense[1], activation='relu'))\n",
    "model_4.add(Dropout(0.5))\n",
    "\n",
    "#softmax layer\n",
    "model_4.add(Dense(nb_dense[2], activation='softmax'))\n",
    "model_4.compile(optimizer=keras.optimizers.Adadelta(), loss='categorical_crossentropy', metrics=['categorical_accuracy'])\n",
    "model_4.summary()"
   ]
  },
  {
   "cell_type": "code",
   "execution_count": 16,
   "metadata": {},
   "outputs": [
    {
     "name": "stdout",
     "output_type": "stream",
     "text": [
      "WARNING:tensorflow:`period` argument is deprecated. Please use `save_freq` to specify the frequency in number of batches seen.\n"
     ]
    }
   ],
   "source": [
    "model_name = 'model_init' + '_' + str(curr_dt_time).replace(' ','').replace(':','_') + '/'\n",
    "    \n",
    "if not os.path.exists(model_name):\n",
    "    os.mkdir(model_name)\n",
    "        \n",
    "filepath = model_name + 'model-{epoch:05d}-{loss:.5f}-{categorical_accuracy:.5f}-{val_loss:.5f}-{val_categorical_accuracy:.5f}.h5'\n",
    "\n",
    "checkpoint = ModelCheckpoint(filepath, monitor='val_loss', verbose=1, save_best_only=False, save_weights_only=False, mode='auto', period=1)\n",
    "\n",
    "LR = ReduceLROnPlateau(monitor='val_loss', factor=0.5, patience=2, cooldown=1, verbose=1) # write the REducelronplateau code here\n",
    "callbacks_list = [checkpoint, LR]"
   ]
  },
  {
   "cell_type": "code",
   "execution_count": 17,
   "metadata": {},
   "outputs": [],
   "source": [
    "if (num_train_sequences%batch_size) == 0:\n",
    "    steps_per_epoch = int(num_train_sequences/batch_size)\n",
    "else:\n",
    "    steps_per_epoch = (num_train_sequences//batch_size) + 1\n",
    "\n",
    "if (num_val_sequences%batch_size) == 0:\n",
    "    validation_steps = int(num_val_sequences/batch_size)\n",
    "else:\n",
    "    validation_steps = (num_val_sequences//batch_size) + 1"
   ]
  },
  {
   "cell_type": "code",
   "execution_count": 18,
   "metadata": {},
   "outputs": [
    {
     "name": "stderr",
     "output_type": "stream",
     "text": [
      "C:\\Users\\ASUS\\AppData\\Local\\Temp\\ipykernel_9224\\812619276.py:5: UserWarning: `Model.fit_generator` is deprecated and will be removed in a future version. Please use `Model.fit`, which supports generators.\n",
      "  model_3.fit_generator(train_generator, steps_per_epoch=steps_per_epoch, epochs=num_epochs, verbose=1,\n",
      "C:\\Users\\ASUS\\AppData\\Local\\Temp\\ipykernel_9224\\974584729.py:13: DeprecationWarning: Starting with ImageIO v3 the behavior of this function will switch to that of iio.v3.imread. To keep the current behavior (and make this warning dissapear) use `import imageio.v2 as imageio` or call `imageio.v2.imread` directly.\n",
      "  image = imread(source_path+'/'+ t[folder + (batch*batch_size)].strip().split(';')[0]+'/'+imgs[item]).astype(np.float32)\n"
     ]
    },
    {
     "name": "stdout",
     "output_type": "stream",
     "text": [
      "Source path =  train ; batch size = 10\n",
      "Epoch 1/10\n",
      "65/67 [============================>.] - ETA: 20s - loss: 2.9781 - categorical_accuracy: 0.1923Batch:  67 Index: 10\n"
     ]
    },
    {
     "name": "stderr",
     "output_type": "stream",
     "text": [
      "C:\\Users\\ASUS\\AppData\\Local\\Temp\\ipykernel_9224\\974584729.py:38: DeprecationWarning: Starting with ImageIO v3 the behavior of this function will switch to that of iio.v3.imread. To keep the current behavior (and make this warning dissapear) use `import imageio.v2 as imageio` or call `imageio.v2.imread` directly.\n",
      "  image = imread(source_path+'/'+ t[folder + (batch*batch_size)].strip().split(';')[0]+'/'+imgs[item]).astype(np.float32)\n"
     ]
    },
    {
     "name": "stdout",
     "output_type": "stream",
     "text": [
      "67/67 [==============================] - ETA: 0s - loss: 2.9836 - categorical_accuracy: 0.1931 Source path =  val ; batch size = 10\n",
      "\n",
      "Epoch 1: saving model to model_init_2023-02-1920_31_44.623438\\model-00001-2.98365-0.19306-1.61024-0.19000.h5\n",
      "67/67 [==============================] - 751s 11s/step - loss: 2.9836 - categorical_accuracy: 0.1931 - val_loss: 1.6102 - val_categorical_accuracy: 0.1900 - lr: 0.0010\n",
      "Epoch 2/10\n",
      "67/67 [==============================] - ETA: 0s - loss: 2.9955 - categorical_accuracy: 0.1741\n",
      "Epoch 2: saving model to model_init_2023-02-1920_31_44.623438\\model-00002-2.99548-0.17413-1.62140-0.19000.h5\n",
      "67/67 [==============================] - 284s 4s/step - loss: 2.9955 - categorical_accuracy: 0.1741 - val_loss: 1.6214 - val_categorical_accuracy: 0.1900 - lr: 0.0010\n",
      "Epoch 3/10\n",
      "67/67 [==============================] - ETA: 0s - loss: 2.9322 - categorical_accuracy: 0.1990\n",
      "Epoch 3: saving model to model_init_2023-02-1920_31_44.623438\\model-00003-2.93221-0.19900-1.62137-0.23000.h5\n",
      "\n",
      "Epoch 3: ReduceLROnPlateau reducing learning rate to 0.0005000000237487257.\n",
      "67/67 [==============================] - 290s 4s/step - loss: 2.9322 - categorical_accuracy: 0.1990 - val_loss: 1.6214 - val_categorical_accuracy: 0.2300 - lr: 0.0010\n",
      "Epoch 4/10\n",
      "67/67 [==============================] - ETA: 0s - loss: 3.0527 - categorical_accuracy: 0.2338\n",
      "Epoch 4: saving model to model_init_2023-02-1920_31_44.623438\\model-00004-3.05272-0.23383-1.60202-0.17000.h5\n",
      "67/67 [==============================] - 287s 4s/step - loss: 3.0527 - categorical_accuracy: 0.2338 - val_loss: 1.6020 - val_categorical_accuracy: 0.1700 - lr: 5.0000e-04\n",
      "Epoch 5/10\n",
      "67/67 [==============================] - ETA: 0s - loss: 2.4863 - categorical_accuracy: 0.2587\n",
      "Epoch 5: saving model to model_init_2023-02-1920_31_44.623438\\model-00005-2.48628-0.25871-1.62666-0.18000.h5\n",
      "67/67 [==============================] - 381s 6s/step - loss: 2.4863 - categorical_accuracy: 0.2587 - val_loss: 1.6267 - val_categorical_accuracy: 0.1800 - lr: 5.0000e-04\n",
      "Epoch 6/10\n",
      "67/67 [==============================] - ETA: 0s - loss: 2.6529 - categorical_accuracy: 0.2239\n",
      "Epoch 6: saving model to model_init_2023-02-1920_31_44.623438\\model-00006-2.65286-0.22388-1.57118-0.29000.h5\n",
      "67/67 [==============================] - 411s 6s/step - loss: 2.6529 - categorical_accuracy: 0.2239 - val_loss: 1.5712 - val_categorical_accuracy: 0.2900 - lr: 5.0000e-04\n",
      "Epoch 7/10\n",
      "67/67 [==============================] - ETA: 0s - loss: 3.0220 - categorical_accuracy: 0.2139\n",
      "Epoch 7: saving model to model_init_2023-02-1920_31_44.623438\\model-00007-3.02204-0.21393-1.57252-0.26000.h5\n",
      "67/67 [==============================] - 421s 6s/step - loss: 3.0220 - categorical_accuracy: 0.2139 - val_loss: 1.5725 - val_categorical_accuracy: 0.2600 - lr: 5.0000e-04\n",
      "Epoch 8/10\n",
      "67/67 [==============================] - ETA: 0s - loss: 2.6501 - categorical_accuracy: 0.2289\n",
      "Epoch 8: saving model to model_init_2023-02-1920_31_44.623438\\model-00008-2.65010-0.22886-1.54245-0.33000.h5\n",
      "67/67 [==============================] - 366s 5s/step - loss: 2.6501 - categorical_accuracy: 0.2289 - val_loss: 1.5424 - val_categorical_accuracy: 0.3300 - lr: 5.0000e-04\n",
      "Epoch 9/10\n",
      "67/67 [==============================] - ETA: 0s - loss: 2.7328 - categorical_accuracy: 0.2388\n",
      "Epoch 9: saving model to model_init_2023-02-1920_31_44.623438\\model-00009-2.73279-0.23881-1.59635-0.28000.h5\n",
      "67/67 [==============================] - 295s 4s/step - loss: 2.7328 - categorical_accuracy: 0.2388 - val_loss: 1.5964 - val_categorical_accuracy: 0.2800 - lr: 5.0000e-04\n",
      "Epoch 10/10\n",
      "67/67 [==============================] - ETA: 0s - loss: 2.6844 - categorical_accuracy: 0.2139\n",
      "Epoch 10: saving model to model_init_2023-02-1920_31_44.623438\\model-00010-2.68441-0.21393-1.56338-0.24000.h5\n",
      "\n",
      "Epoch 10: ReduceLROnPlateau reducing learning rate to 0.0002500000118743628.\n",
      "67/67 [==============================] - 294s 4s/step - loss: 2.6844 - categorical_accuracy: 0.2139 - val_loss: 1.5634 - val_categorical_accuracy: 0.2400 - lr: 5.0000e-04\n"
     ]
    },
    {
     "data": {
      "text/plain": [
       "<keras.callbacks.History at 0x1e312283400>"
      ]
     },
     "execution_count": 18,
     "metadata": {},
     "output_type": "execute_result"
    }
   ],
   "source": [
    "batch_size = 10\n",
    "train_generator = generator(train_path, train_doc, batch_size)\n",
    "val_generator = generator(val_path, val_doc, batch_size)\n",
    "num_epochs = 10\n",
    "model_3.fit_generator(train_generator, steps_per_epoch=steps_per_epoch, epochs=num_epochs, verbose=1, \n",
    "                    callbacks=callbacks_list, validation_data=val_generator, \n",
    "                    validation_steps=validation_steps, class_weight=None, workers=1, initial_epoch=0)"
   ]
  },
  {
   "cell_type": "markdown",
   "metadata": {
    "id": "MEAsYYGCT58B"
   },
   "source": [
    "# After few more experiments, Final model is below."
   ]
  },
  {
   "cell_type": "code",
   "execution_count": null,
   "metadata": {},
   "outputs": [],
   "source": [
    "x, y, z = 30, 120, 120"
   ]
  },
  {
   "cell_type": "code",
   "execution_count": null,
   "metadata": {},
   "outputs": [],
   "source": [
    "# First try with x, y, z\n",
    "classes, channel = 5, 3 "
   ]
  },
  {
   "cell_type": "code",
   "execution_count": null,
   "metadata": {
    "id": "99S1awDHTyrD"
   },
   "outputs": [],
   "source": [
    "nb_filters = [8,16,32,64]\n",
    "nb_dense = [256, 128, 5]\n",
    "\n",
    "# Input\n",
    "input_shape=(30,120,120,3)\n",
    "\n",
    "# Define model\n",
    "model_final = Sequential()\n",
    "\n",
    "model_final.add(Conv3D(nb_filters[0], \n",
    "                 kernel_size=(3,3,3), \n",
    "                 input_shape=input_shape,\n",
    "                 padding='same'))\n",
    "model_final.add(BatchNormalization())\n",
    "model_final.add(Activation('relu'))\n",
    "\n",
    "model_final.add(MaxPooling3D(pool_size=(2,2,2)))\n",
    "\n",
    "model_final.add(Conv3D(nb_filters[1], \n",
    "                 kernel_size=(3,3,3), \n",
    "                 padding='same'))\n",
    "model_final.add(BatchNormalization())\n",
    "model_final.add(Activation('relu'))\n",
    "\n",
    "model_final.add(MaxPooling3D(pool_size=(2,2,2)))\n",
    "\n",
    "model_final.add(Conv3D(nb_filters[2], \n",
    "                 kernel_size=(1,3,3), \n",
    "                 padding='same'))\n",
    "model_final.add(BatchNormalization())\n",
    "model_final.add(Activation('relu'))\n",
    "\n",
    "model_final.add(MaxPooling3D(pool_size=(2,2,2)))\n",
    "\n",
    "model_final.add(Conv3D(nb_filters[3], \n",
    "                 kernel_size=(1,3,3), \n",
    "                 padding='same'))\n",
    "model_final.add(Activation('relu'))\n",
    "model_final.add(Dropout(0.25))\n",
    "\n",
    "model_final.add(MaxPooling3D(pool_size=(2,2,2)))\n",
    "\n",
    "#Flatten Layers\n",
    "model_final.add(Flatten())\n",
    "\n",
    "model_final.add(Dense(nb_dense[0], activation='relu'))\n",
    "model_final.add(Dropout(0.5))\n",
    "\n",
    "model_final.add(Dense(nb_dense[1], activation='relu'))\n",
    "model_final.add(Dropout(0.5))\n",
    "\n",
    "#softmax layer\n",
    "model_final.add(Dense(nb_dense[2], activation='softmax'))"
   ]
  },
  {
   "cell_type": "code",
   "execution_count": 4,
   "metadata": {
    "id": "zFBg4Nn2UAl1"
   },
   "outputs": [
    {
     "ename": "NameError",
     "evalue": "name 'keras' is not defined",
     "output_type": "error",
     "traceback": [
      "\u001b[1;31m---------------------------------------------------------------------------\u001b[0m",
      "\u001b[1;31mNameError\u001b[0m                                 Traceback (most recent call last)",
      "\u001b[1;32m~\\AppData\\Local\\Temp\\ipykernel_15396\\530596912.py\u001b[0m in \u001b[0;36m<module>\u001b[1;34m\u001b[0m\n\u001b[1;32m----> 1\u001b[1;33m \u001b[0moptimiser\u001b[0m \u001b[1;33m=\u001b[0m \u001b[0mkeras\u001b[0m\u001b[1;33m.\u001b[0m\u001b[0moptimizers\u001b[0m\u001b[1;33m.\u001b[0m\u001b[0mAdam\u001b[0m\u001b[1;33m(\u001b[0m\u001b[1;33m)\u001b[0m \u001b[1;31m#write your optimizer\u001b[0m\u001b[1;33m\u001b[0m\u001b[1;33m\u001b[0m\u001b[0m\n\u001b[0m\u001b[0;32m      2\u001b[0m \u001b[0mmodel_final\u001b[0m\u001b[1;33m.\u001b[0m\u001b[0mcompile\u001b[0m\u001b[1;33m(\u001b[0m\u001b[0moptimizer\u001b[0m\u001b[1;33m=\u001b[0m\u001b[0moptimiser\u001b[0m\u001b[1;33m,\u001b[0m \u001b[0mloss\u001b[0m\u001b[1;33m=\u001b[0m\u001b[1;34m'categorical_crossentropy'\u001b[0m\u001b[1;33m,\u001b[0m \u001b[0mmetrics\u001b[0m\u001b[1;33m=\u001b[0m\u001b[1;33m[\u001b[0m\u001b[1;34m'categorical_accuracy'\u001b[0m\u001b[1;33m]\u001b[0m\u001b[1;33m)\u001b[0m\u001b[1;33m\u001b[0m\u001b[1;33m\u001b[0m\u001b[0m\n\u001b[0;32m      3\u001b[0m \u001b[0mprint\u001b[0m \u001b[1;33m(\u001b[0m\u001b[0mmodel_final\u001b[0m\u001b[1;33m.\u001b[0m\u001b[0msummary\u001b[0m\u001b[1;33m(\u001b[0m\u001b[1;33m)\u001b[0m\u001b[1;33m)\u001b[0m\u001b[1;33m\u001b[0m\u001b[1;33m\u001b[0m\u001b[0m\n",
      "\u001b[1;31mNameError\u001b[0m: name 'keras' is not defined"
     ]
    }
   ],
   "source": [
    "optimiser = keras.optimizers.Adam() #write your optimizer\n",
    "model_final.compile(optimizer=optimiser, loss='categorical_crossentropy', metrics=['categorical_accuracy'])\n",
    "print (model_final.summary())"
   ]
  },
  {
   "cell_type": "code",
   "execution_count": 40,
   "metadata": {
    "id": "XiZiEJK4UC_D"
   },
   "outputs": [],
   "source": [
    "train_generator = generator(train_path, train_doc, batch_size)\n",
    "val_generator = generator(val_path, val_doc, batch_size)"
   ]
  },
  {
   "cell_type": "code",
   "execution_count": 41,
   "metadata": {},
   "outputs": [
    {
     "name": "stdout",
     "output_type": "stream",
     "text": [
      "WARNING:tensorflow:`period` argument is deprecated. Please use `save_freq` to specify the frequency in number of batches seen.\n"
     ]
    }
   ],
   "source": [
    "model_name = 'model_init' + '_' + str(curr_dt_time).replace(' ','').replace(':','_') + '/'\n",
    "    \n",
    "if not os.path.exists(model_name):\n",
    "    os.mkdir(model_name)\n",
    "        \n",
    "filepath = model_name + 'model-{epoch:05d}-{loss:.5f}-{categorical_accuracy:.5f}-{val_loss:.5f}-{val_categorical_accuracy:.5f}.h5'\n",
    "\n",
    "checkpoint = ModelCheckpoint(filepath, monitor='val_loss', verbose=1, save_best_only=False, save_weights_only=False, mode='auto', period=1)\n",
    "\n",
    "LR = ReduceLROnPlateau(monitor='val_loss', factor=0.5, patience=2, cooldown=1, verbose=1) # write the REducelronplateau code here\n",
    "callbacks_list = [checkpoint, LR]"
   ]
  },
  {
   "cell_type": "code",
   "execution_count": 42,
   "metadata": {},
   "outputs": [],
   "source": [
    "if (num_train_sequences%batch_size) == 0:\n",
    "    steps_per_epoch = int(num_train_sequences/batch_size)\n",
    "else:\n",
    "    steps_per_epoch = (num_train_sequences//batch_size) + 1\n",
    "\n",
    "if (num_val_sequences%batch_size) == 0:\n",
    "    validation_steps = int(num_val_sequences/batch_size)\n",
    "else:\n",
    "    validation_steps = (num_val_sequences//batch_size) + 1"
   ]
  },
  {
   "cell_type": "code",
   "execution_count": 43,
   "metadata": {
    "id": "Fqa1MZaFUOGB"
   },
   "outputs": [
    {
     "name": "stderr",
     "output_type": "stream",
     "text": [
      "C:\\Users\\ASUS\\AppData\\Local\\Temp\\ipykernel_9224\\1713692469.py:3: UserWarning: `Model.fit_generator` is deprecated and will be removed in a future version. Please use `Model.fit`, which supports generators.\n",
      "  model_final.fit_generator(train_generator, steps_per_epoch=steps_per_epoch, epochs=num_epochs, verbose=1,\n"
     ]
    },
    {
     "name": "stdout",
     "output_type": "stream",
     "text": [
      "Source path =  train ; batch size = 32\n"
     ]
    },
    {
     "name": "stderr",
     "output_type": "stream",
     "text": [
      "C:\\Users\\ASUS\\AppData\\Local\\Temp\\ipykernel_9224\\974584729.py:13: DeprecationWarning: Starting with ImageIO v3 the behavior of this function will switch to that of iio.v3.imread. To keep the current behavior (and make this warning dissapear) use `import imageio.v2 as imageio` or call `imageio.v2.imread` directly.\n",
      "  image = imread(source_path+'/'+ t[folder + (batch*batch_size)].strip().split(';')[0]+'/'+imgs[item]).astype(np.float32)\n"
     ]
    },
    {
     "name": "stdout",
     "output_type": "stream",
     "text": [
      "Epoch 1/20\n",
      "19/21 [==========================>...] - ETA: 1:25 - loss: 2.2074 - categorical_accuracy: 0.2286Batch:  21 Index: 32\n"
     ]
    },
    {
     "name": "stderr",
     "output_type": "stream",
     "text": [
      "C:\\Users\\ASUS\\AppData\\Local\\Temp\\ipykernel_9224\\974584729.py:38: DeprecationWarning: Starting with ImageIO v3 the behavior of this function will switch to that of iio.v3.imread. To keep the current behavior (and make this warning dissapear) use `import imageio.v2 as imageio` or call `imageio.v2.imread` directly.\n",
      "  image = imread(source_path+'/'+ t[folder + (batch*batch_size)].strip().split(';')[0]+'/'+imgs[item]).astype(np.float32)\n"
     ]
    },
    {
     "name": "stdout",
     "output_type": "stream",
     "text": [
      "21/21 [==============================] - ETA: 0s - loss: 2.1547 - categorical_accuracy: 0.2338 Source path =  val ; batch size = 32\n",
      "Batch:  4 Index: 32\n",
      "\n",
      "Epoch 1: saving model to model_init_2023-02-1920_31_44.623438\\model-00001-2.15471-0.23379-1.59499-0.27000.h5\n",
      "21/21 [==============================] - 979s 47s/step - loss: 2.1547 - categorical_accuracy: 0.2338 - val_loss: 1.5950 - val_categorical_accuracy: 0.2700 - lr: 0.0010\n",
      "Epoch 2/20\n",
      "21/21 [==============================] - ETA: 0s - loss: 1.5734 - categorical_accuracy: 0.2609 \n",
      "Epoch 2: saving model to model_init_2023-02-1920_31_44.623438\\model-00002-1.57344-0.26087-1.49530-0.37500.h5\n",
      "21/21 [==============================] - 474s 23s/step - loss: 1.5734 - categorical_accuracy: 0.2609 - val_loss: 1.4953 - val_categorical_accuracy: 0.3750 - lr: 0.0010\n",
      "Epoch 3/20\n",
      " 6/21 [=======>......................] - ETA: 5:29 - loss: 1.5640 - categorical_accuracy: 0.3261Batch:  29 Index: 23\n",
      "21/21 [==============================] - ETA: 0s - loss: 1.5161 - categorical_accuracy: 0.3208 \n",
      "Epoch 3: saving model to model_init_2023-02-1920_31_44.623438\\model-00003-1.51615-0.32084-1.61245-0.18750.h5\n",
      "21/21 [==============================] - 413s 20s/step - loss: 1.5161 - categorical_accuracy: 0.3208 - val_loss: 1.6124 - val_categorical_accuracy: 0.1875 - lr: 0.0010\n",
      "Epoch 4/20\n",
      "20/21 [===========================>..] - ETA: 18s - loss: 1.4113 - categorical_accuracy: 0.3816Batch:  35 Index: 19\n",
      "21/21 [==============================] - ETA: 0s - loss: 1.4047 - categorical_accuracy: 0.3835 \n",
      "Epoch 4: saving model to model_init_2023-02-1920_31_44.623438\\model-00004-1.40467-0.38346-1.42585-0.50000.h5\n",
      "21/21 [==============================] - 400s 19s/step - loss: 1.4047 - categorical_accuracy: 0.3835 - val_loss: 1.4258 - val_categorical_accuracy: 0.5000 - lr: 0.0010\n",
      "Epoch 5/20\n",
      "21/21 [==============================] - ETA: 0s - loss: 1.2893 - categorical_accuracy: 0.4706 \n",
      "Epoch 5: saving model to model_init_2023-02-1920_31_44.623438\\model-00005-1.28928-0.47059-1.47508-0.43750.h5\n",
      "21/21 [==============================] - 340s 16s/step - loss: 1.2893 - categorical_accuracy: 0.4706 - val_loss: 1.4751 - val_categorical_accuracy: 0.4375 - lr: 0.0010\n",
      "Epoch 6/20\n",
      "21/21 [==============================] - ETA: 0s - loss: 1.3246 - categorical_accuracy: 0.4678 \n",
      "Epoch 6: saving model to model_init_2023-02-1920_31_44.623438\\model-00006-1.32461-0.46779-1.37297-0.56250.h5\n",
      "21/21 [==============================] - 347s 17s/step - loss: 1.3246 - categorical_accuracy: 0.4678 - val_loss: 1.3730 - val_categorical_accuracy: 0.5625 - lr: 0.0010\n",
      "Epoch 7/20\n",
      "21/21 [==============================] - ETA: 0s - loss: 1.1723 - categorical_accuracy: 0.5462 \n",
      "Epoch 7: saving model to model_init_2023-02-1920_31_44.623438\\model-00007-1.17229-0.54622-1.37041-0.25000.h5\n",
      "21/21 [==============================] - 339s 16s/step - loss: 1.1723 - categorical_accuracy: 0.5462 - val_loss: 1.3704 - val_categorical_accuracy: 0.2500 - lr: 0.0010\n",
      "Epoch 8/20\n",
      "21/21 [==============================] - ETA: 0s - loss: 1.1471 - categorical_accuracy: 0.5266 \n",
      "Epoch 8: saving model to model_init_2023-02-1920_31_44.623438\\model-00008-1.14712-0.52661-1.30999-0.50000.h5\n",
      "21/21 [==============================] - 352s 17s/step - loss: 1.1471 - categorical_accuracy: 0.5266 - val_loss: 1.3100 - val_categorical_accuracy: 0.5000 - lr: 0.0010\n",
      "Epoch 9/20\n",
      "21/21 [==============================] - ETA: 0s - loss: 1.0850 - categorical_accuracy: 0.5742 \n",
      "Epoch 9: saving model to model_init_2023-02-1920_31_44.623438\\model-00009-1.08499-0.57423-1.23354-0.50000.h5\n",
      "21/21 [==============================] - 342s 16s/step - loss: 1.0850 - categorical_accuracy: 0.5742 - val_loss: 1.2335 - val_categorical_accuracy: 0.5000 - lr: 0.0010\n",
      "Epoch 10/20\n",
      "21/21 [==============================] - ETA: 0s - loss: 0.9080 - categorical_accuracy: 0.6162 \n",
      "Epoch 10: saving model to model_init_2023-02-1920_31_44.623438\\model-00010-0.90798-0.61625-1.38117-0.37500.h5\n",
      "21/21 [==============================] - 358s 17s/step - loss: 0.9080 - categorical_accuracy: 0.6162 - val_loss: 1.3812 - val_categorical_accuracy: 0.3750 - lr: 0.0010\n",
      "Epoch 11/20\n",
      "21/21 [==============================] - ETA: 0s - loss: 1.0239 - categorical_accuracy: 0.5798 \n",
      "Epoch 11: saving model to model_init_2023-02-1920_31_44.623438\\model-00011-1.02393-0.57983-1.11345-0.62500.h5\n",
      "21/21 [==============================] - 349s 17s/step - loss: 1.0239 - categorical_accuracy: 0.5798 - val_loss: 1.1135 - val_categorical_accuracy: 0.6250 - lr: 0.0010\n",
      "Epoch 12/20\n",
      "21/21 [==============================] - ETA: 0s - loss: 0.9625 - categorical_accuracy: 0.6246 \n",
      "Epoch 12: saving model to model_init_2023-02-1920_31_44.623438\\model-00012-0.96250-0.62465-0.94570-0.50000.h5\n",
      "21/21 [==============================] - 343s 16s/step - loss: 0.9625 - categorical_accuracy: 0.6246 - val_loss: 0.9457 - val_categorical_accuracy: 0.5000 - lr: 0.0010\n",
      "Epoch 13/20\n",
      "21/21 [==============================] - ETA: 0s - loss: 0.7673 - categorical_accuracy: 0.7031 \n",
      "Epoch 13: saving model to model_init_2023-02-1920_31_44.623438\\model-00013-0.76727-0.70308-1.49648-0.37500.h5\n",
      "21/21 [==============================] - 341s 16s/step - loss: 0.7673 - categorical_accuracy: 0.7031 - val_loss: 1.4965 - val_categorical_accuracy: 0.3750 - lr: 0.0010\n",
      "Epoch 14/20\n",
      "21/21 [==============================] - ETA: 0s - loss: 0.8022 - categorical_accuracy: 0.7087 \n",
      "Epoch 14: saving model to model_init_2023-02-1920_31_44.623438\\model-00014-0.80218-0.70868-1.31658-0.62500.h5\n",
      "\n",
      "Epoch 14: ReduceLROnPlateau reducing learning rate to 0.0005000000237487257.\n",
      "21/21 [==============================] - 338s 16s/step - loss: 0.8022 - categorical_accuracy: 0.7087 - val_loss: 1.3166 - val_categorical_accuracy: 0.6250 - lr: 0.0010\n",
      "Epoch 15/20\n",
      "21/21 [==============================] - ETA: 0s - loss: 0.6469 - categorical_accuracy: 0.7619 \n",
      "Epoch 15: saving model to model_init_2023-02-1920_31_44.623438\\model-00015-0.64692-0.76190-1.35777-0.56250.h5\n",
      "21/21 [==============================] - 340s 16s/step - loss: 0.6469 - categorical_accuracy: 0.7619 - val_loss: 1.3578 - val_categorical_accuracy: 0.5625 - lr: 5.0000e-04\n",
      "Epoch 16/20\n",
      "21/21 [==============================] - ETA: 0s - loss: 0.6431 - categorical_accuracy: 0.7507 \n",
      "Epoch 16: saving model to model_init_2023-02-1920_31_44.623438\\model-00016-0.64311-0.75070-0.92210-0.56250.h5\n",
      "21/21 [==============================] - 334s 16s/step - loss: 0.6431 - categorical_accuracy: 0.7507 - val_loss: 0.9221 - val_categorical_accuracy: 0.5625 - lr: 5.0000e-04\n",
      "Epoch 17/20\n",
      "21/21 [==============================] - ETA: 0s - loss: 0.5697 - categorical_accuracy: 0.7759 \n",
      "Epoch 17: saving model to model_init_2023-02-1920_31_44.623438\\model-00017-0.56965-0.77591-1.39253-0.62500.h5\n",
      "21/21 [==============================] - 337s 16s/step - loss: 0.5697 - categorical_accuracy: 0.7759 - val_loss: 1.3925 - val_categorical_accuracy: 0.6250 - lr: 5.0000e-04\n",
      "Epoch 18/20\n",
      "21/21 [==============================] - ETA: 0s - loss: 0.5301 - categorical_accuracy: 0.8067 \n",
      "Epoch 18: saving model to model_init_2023-02-1920_31_44.623438\\model-00018-0.53009-0.80672-0.64594-0.81250.h5\n",
      "21/21 [==============================] - 334s 16s/step - loss: 0.5301 - categorical_accuracy: 0.8067 - val_loss: 0.6459 - val_categorical_accuracy: 0.8125 - lr: 5.0000e-04\n",
      "Epoch 19/20\n",
      "21/21 [==============================] - ETA: 0s - loss: 0.4592 - categorical_accuracy: 0.8347 \n",
      "Epoch 19: saving model to model_init_2023-02-1920_31_44.623438\\model-00019-0.45920-0.83473-0.87869-0.68750.h5\n",
      "21/21 [==============================] - 337s 16s/step - loss: 0.4592 - categorical_accuracy: 0.8347 - val_loss: 0.8787 - val_categorical_accuracy: 0.6875 - lr: 5.0000e-04\n",
      "Epoch 20/20\n",
      "21/21 [==============================] - ETA: 0s - loss: 0.3952 - categorical_accuracy: 0.8768 \n",
      "Epoch 20: saving model to model_init_2023-02-1920_31_44.623438\\model-00020-0.39516-0.87675-0.76595-0.68750.h5\n",
      "\n",
      "Epoch 20: ReduceLROnPlateau reducing learning rate to 0.0002500000118743628.\n",
      "21/21 [==============================] - 368s 18s/step - loss: 0.3952 - categorical_accuracy: 0.8768 - val_loss: 0.7659 - val_categorical_accuracy: 0.6875 - lr: 5.0000e-04\n"
     ]
    },
    {
     "data": {
      "text/plain": [
       "<keras.callbacks.History at 0x1e3143865e0>"
      ]
     },
     "execution_count": 43,
     "metadata": {},
     "output_type": "execute_result"
    }
   ],
   "source": [
    "batch_size = 10\n",
    "num_epochs = 20\n",
    "model_final.fit_generator(train_generator, steps_per_epoch=steps_per_epoch, epochs=num_epochs, verbose=1, \n",
    "                    callbacks=callbacks_list, validation_data=val_generator, \n",
    "                    validation_steps=validation_steps, class_weight=None, workers=1, initial_epoch=0)"
   ]
  },
  {
   "cell_type": "markdown",
   "metadata": {},
   "source": [
    "# Experimenting one more time with batch_size and num_epochs"
   ]
  },
  {
   "cell_type": "code",
   "execution_count": 44,
   "metadata": {
    "id": "PJWtMKPVUUXF"
   },
   "outputs": [
    {
     "name": "stderr",
     "output_type": "stream",
     "text": [
      "C:\\Users\\ASUS\\AppData\\Local\\Temp\\ipykernel_9224\\3618232084.py:3: UserWarning: `Model.fit_generator` is deprecated and will be removed in a future version. Please use `Model.fit`, which supports generators.\n",
      "  model_final.fit_generator(train_generator, steps_per_epoch=steps_per_epoch, epochs=num_epochs, verbose=1,\n",
      "C:\\Users\\ASUS\\AppData\\Local\\Temp\\ipykernel_9224\\974584729.py:13: DeprecationWarning: Starting with ImageIO v3 the behavior of this function will switch to that of iio.v3.imread. To keep the current behavior (and make this warning dissapear) use `import imageio.v2 as imageio` or call `imageio.v2.imread` directly.\n",
      "  image = imread(source_path+'/'+ t[folder + (batch*batch_size)].strip().split(';')[0]+'/'+imgs[item]).astype(np.float32)\n"
     ]
    },
    {
     "name": "stdout",
     "output_type": "stream",
     "text": [
      "Epoch 1/20\n",
      "21/21 [==============================] - ETA: 0s - loss: 0.4058 - categorical_accuracy: 0.8487 \n",
      "Epoch 1: saving model to model_init_2023-02-1920_31_44.623438\\model-00001-0.40579-0.84874-0.97581-0.68750.h5\n",
      "21/21 [==============================] - 353s 17s/step - loss: 0.4058 - categorical_accuracy: 0.8487 - val_loss: 0.9758 - val_categorical_accuracy: 0.6875 - lr: 2.5000e-04\n",
      "Epoch 2/20\n",
      "21/21 [==============================] - ETA: 0s - loss: 0.3552 - categorical_accuracy: 0.8824 \n",
      "Epoch 2: saving model to model_init_2023-02-1920_31_44.623438\\model-00002-0.35519-0.88235-0.71639-0.62500.h5\n",
      "21/21 [==============================] - 336s 16s/step - loss: 0.3552 - categorical_accuracy: 0.8824 - val_loss: 0.7164 - val_categorical_accuracy: 0.6250 - lr: 2.5000e-04\n",
      "Epoch 3/20\n",
      "21/21 [==============================] - ETA: 0s - loss: 0.3155 - categorical_accuracy: 0.8908 \n",
      "Epoch 3: saving model to model_init_2023-02-1920_31_44.623438\\model-00003-0.31547-0.89076-0.67537-0.75000.h5\n",
      "21/21 [==============================] - 338s 16s/step - loss: 0.3155 - categorical_accuracy: 0.8908 - val_loss: 0.6754 - val_categorical_accuracy: 0.7500 - lr: 2.5000e-04\n",
      "Epoch 4/20\n",
      "21/21 [==============================] - ETA: 0s - loss: 0.3317 - categorical_accuracy: 0.8824 \n",
      "Epoch 4: saving model to model_init_2023-02-1920_31_44.623438\\model-00004-0.33167-0.88235-1.01000-0.68750.h5\n",
      "21/21 [==============================] - 338s 16s/step - loss: 0.3317 - categorical_accuracy: 0.8824 - val_loss: 1.0100 - val_categorical_accuracy: 0.6875 - lr: 2.5000e-04\n",
      "Epoch 5/20\n",
      "21/21 [==============================] - ETA: 0s - loss: 0.2818 - categorical_accuracy: 0.9104 \n",
      "Epoch 5: saving model to model_init_2023-02-1920_31_44.623438\\model-00005-0.28180-0.91036-0.62981-0.68750.h5\n",
      "21/21 [==============================] - 343s 16s/step - loss: 0.2818 - categorical_accuracy: 0.9104 - val_loss: 0.6298 - val_categorical_accuracy: 0.6875 - lr: 2.5000e-04\n",
      "Epoch 6/20\n",
      "21/21 [==============================] - ETA: 0s - loss: 0.3211 - categorical_accuracy: 0.8852 \n",
      "Epoch 6: saving model to model_init_2023-02-1920_31_44.623438\\model-00006-0.32114-0.88515-0.68884-0.68750.h5\n",
      "21/21 [==============================] - 348s 17s/step - loss: 0.3211 - categorical_accuracy: 0.8852 - val_loss: 0.6888 - val_categorical_accuracy: 0.6875 - lr: 2.5000e-04\n",
      "Epoch 7/20\n",
      "21/21 [==============================] - ETA: 0s - loss: 0.2588 - categorical_accuracy: 0.8964 \n",
      "Epoch 7: saving model to model_init_2023-02-1920_31_44.623438\\model-00007-0.25880-0.89636-1.27104-0.68750.h5\n",
      "\n",
      "Epoch 7: ReduceLROnPlateau reducing learning rate to 0.0001250000059371814.\n",
      "21/21 [==============================] - 342s 16s/step - loss: 0.2588 - categorical_accuracy: 0.8964 - val_loss: 1.2710 - val_categorical_accuracy: 0.6875 - lr: 2.5000e-04\n",
      "Epoch 8/20\n",
      "21/21 [==============================] - ETA: 0s - loss: 0.2572 - categorical_accuracy: 0.9132 \n",
      "Epoch 8: saving model to model_init_2023-02-1920_31_44.623438\\model-00008-0.25719-0.91317-0.51241-0.81250.h5\n",
      "21/21 [==============================] - 352s 17s/step - loss: 0.2572 - categorical_accuracy: 0.9132 - val_loss: 0.5124 - val_categorical_accuracy: 0.8125 - lr: 1.2500e-04\n",
      "Epoch 9/20\n",
      "21/21 [==============================] - ETA: 0s - loss: 0.2404 - categorical_accuracy: 0.9076 \n",
      "Epoch 9: saving model to model_init_2023-02-1920_31_44.623438\\model-00009-0.24036-0.90756-0.88305-0.62500.h5\n",
      "21/21 [==============================] - 344s 16s/step - loss: 0.2404 - categorical_accuracy: 0.9076 - val_loss: 0.8831 - val_categorical_accuracy: 0.6250 - lr: 1.2500e-04\n",
      "Epoch 10/20\n",
      "21/21 [==============================] - ETA: 0s - loss: 0.2052 - categorical_accuracy: 0.9356 \n",
      "Epoch 10: saving model to model_init_2023-02-1920_31_44.623438\\model-00010-0.20525-0.93557-0.47036-0.81250.h5\n",
      "21/21 [==============================] - 367s 18s/step - loss: 0.2052 - categorical_accuracy: 0.9356 - val_loss: 0.4704 - val_categorical_accuracy: 0.8125 - lr: 1.2500e-04\n",
      "Epoch 11/20\n",
      "21/21 [==============================] - ETA: 0s - loss: 0.2007 - categorical_accuracy: 0.9412 \n",
      "Epoch 11: saving model to model_init_2023-02-1920_31_44.623438\\model-00011-0.20072-0.94118-0.16811-0.93750.h5\n",
      "21/21 [==============================] - 343s 16s/step - loss: 0.2007 - categorical_accuracy: 0.9412 - val_loss: 0.1681 - val_categorical_accuracy: 0.9375 - lr: 1.2500e-04\n",
      "Epoch 12/20\n",
      "21/21 [==============================] - ETA: 0s - loss: 0.1908 - categorical_accuracy: 0.9356 \n",
      "Epoch 12: saving model to model_init_2023-02-1920_31_44.623438\\model-00012-0.19083-0.93557-0.19873-0.93750.h5\n",
      "21/21 [==============================] - 337s 16s/step - loss: 0.1908 - categorical_accuracy: 0.9356 - val_loss: 0.1987 - val_categorical_accuracy: 0.9375 - lr: 1.2500e-04\n",
      "Epoch 13/20\n",
      "21/21 [==============================] - ETA: 0s - loss: 0.1959 - categorical_accuracy: 0.9384 \n",
      "Epoch 13: saving model to model_init_2023-02-1920_31_44.623438\\model-00013-0.19590-0.93838-0.75709-0.81250.h5\n",
      "\n",
      "Epoch 13: ReduceLROnPlateau reducing learning rate to 6.25000029685907e-05.\n",
      "21/21 [==============================] - 341s 16s/step - loss: 0.1959 - categorical_accuracy: 0.9384 - val_loss: 0.7571 - val_categorical_accuracy: 0.8125 - lr: 1.2500e-04\n",
      "Epoch 14/20\n",
      "21/21 [==============================] - ETA: 0s - loss: 0.1366 - categorical_accuracy: 0.9608 \n",
      "Epoch 14: saving model to model_init_2023-02-1920_31_44.623438\\model-00014-0.13660-0.96078-0.50397-0.87500.h5\n",
      "21/21 [==============================] - 350s 17s/step - loss: 0.1366 - categorical_accuracy: 0.9608 - val_loss: 0.5040 - val_categorical_accuracy: 0.8750 - lr: 6.2500e-05\n",
      "Epoch 15/20\n",
      "21/21 [==============================] - ETA: 0s - loss: 0.1654 - categorical_accuracy: 0.9384 \n",
      "Epoch 15: saving model to model_init_2023-02-1920_31_44.623438\\model-00015-0.16544-0.93838-0.73274-0.68750.h5\n",
      "\n",
      "Epoch 15: ReduceLROnPlateau reducing learning rate to 3.125000148429535e-05.\n",
      "21/21 [==============================] - 355s 17s/step - loss: 0.1654 - categorical_accuracy: 0.9384 - val_loss: 0.7327 - val_categorical_accuracy: 0.6875 - lr: 6.2500e-05\n",
      "Epoch 16/20\n",
      "21/21 [==============================] - ETA: 0s - loss: 0.1737 - categorical_accuracy: 0.9440 \n",
      "Epoch 16: saving model to model_init_2023-02-1920_31_44.623438\\model-00016-0.17366-0.94398-0.57205-0.75000.h5\n",
      "21/21 [==============================] - 348s 17s/step - loss: 0.1737 - categorical_accuracy: 0.9440 - val_loss: 0.5721 - val_categorical_accuracy: 0.7500 - lr: 3.1250e-05\n",
      "Epoch 17/20\n",
      "21/21 [==============================] - ETA: 0s - loss: 0.1568 - categorical_accuracy: 0.9440 \n",
      "Epoch 17: saving model to model_init_2023-02-1920_31_44.623438\\model-00017-0.15678-0.94398-0.82887-0.75000.h5\n",
      "\n",
      "Epoch 17: ReduceLROnPlateau reducing learning rate to 1.5625000742147677e-05.\n",
      "21/21 [==============================] - 326s 16s/step - loss: 0.1568 - categorical_accuracy: 0.9440 - val_loss: 0.8289 - val_categorical_accuracy: 0.7500 - lr: 3.1250e-05\n",
      "Epoch 18/20\n",
      "21/21 [==============================] - ETA: 0s - loss: 0.1855 - categorical_accuracy: 0.9328 \n",
      "Epoch 18: saving model to model_init_2023-02-1920_31_44.623438\\model-00018-0.18546-0.93277-0.87140-0.75000.h5\n",
      "21/21 [==============================] - 318s 15s/step - loss: 0.1855 - categorical_accuracy: 0.9328 - val_loss: 0.8714 - val_categorical_accuracy: 0.7500 - lr: 1.5625e-05\n",
      "Epoch 19/20\n",
      "21/21 [==============================] - ETA: 0s - loss: 0.1573 - categorical_accuracy: 0.9384 \n",
      "Epoch 19: saving model to model_init_2023-02-1920_31_44.623438\\model-00019-0.15733-0.93838-0.39895-0.87500.h5\n",
      "\n",
      "Epoch 19: ReduceLROnPlateau reducing learning rate to 7.812500371073838e-06.\n",
      "21/21 [==============================] - 316s 15s/step - loss: 0.1573 - categorical_accuracy: 0.9384 - val_loss: 0.3989 - val_categorical_accuracy: 0.8750 - lr: 1.5625e-05\n",
      "Epoch 20/20\n",
      "21/21 [==============================] - ETA: 0s - loss: 0.1760 - categorical_accuracy: 0.9496 \n",
      "Epoch 20: saving model to model_init_2023-02-1920_31_44.623438\\model-00020-0.17600-0.94958-0.38923-0.87500.h5\n",
      "21/21 [==============================] - 316s 15s/step - loss: 0.1760 - categorical_accuracy: 0.9496 - val_loss: 0.3892 - val_categorical_accuracy: 0.8750 - lr: 7.8125e-06\n"
     ]
    },
    {
     "data": {
      "text/plain": [
       "<keras.callbacks.History at 0x1e314397b80>"
      ]
     },
     "execution_count": 44,
     "metadata": {},
     "output_type": "execute_result"
    }
   ],
   "source": [
    "batch_size = 32\n",
    "num_epochs = 20\n",
    "model_final.fit_generator(train_generator, steps_per_epoch=steps_per_epoch, epochs=num_epochs, verbose=1, \n",
    "                    callbacks=callbacks_list, validation_data=val_generator, \n",
    "                    validation_steps=validation_steps, class_weight=None, workers=1, initial_epoch=0)"
   ]
  }
 ],
 "metadata": {
  "colab": {
   "provenance": []
  },
  "kernelspec": {
   "display_name": "Python 3 (ipykernel)",
   "language": "python",
   "name": "python3"
  },
  "language_info": {
   "codemirror_mode": {
    "name": "ipython",
    "version": 3
   },
   "file_extension": ".py",
   "mimetype": "text/x-python",
   "name": "python",
   "nbconvert_exporter": "python",
   "pygments_lexer": "ipython3",
   "version": "3.9.13"
  }
 },
 "nbformat": 4,
 "nbformat_minor": 1
}
